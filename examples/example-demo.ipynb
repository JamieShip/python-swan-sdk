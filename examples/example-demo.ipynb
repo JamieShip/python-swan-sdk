{
 "cells": [
  {
   "cell_type": "markdown",
   "metadata": {},
   "source": [
    "## Demo for SDK (latest)\n",
    "\n",
    "This example shows how to use SDK to deploy a task. The notebook includes the following steps:\n",
    "- [initialization](#initialization)\n",
    "- [get `job_source_uri` (not covered in this demo)](#get-job_source_uri)\n",
    "- [show available hardware info list](#show-available-hardware-information)\n",
    "- [choose hardware config](#choose-hardware-config)\n",
    "- [estimate payment amount](#estimate-payment-amount)\n",
    "- [create task to get `task_uuid`](#create-task)\n",
    "- [submit payment](#submit-payment)\n",
    "- [validate payment](#validate-payment-to-deploy-task)\n",
    "- [follow up task status](#follow-up-task-status-optional)\n",
    "- [show result](#show-result)\n"
   ]
  },
  {
   "cell_type": "markdown",
   "metadata": {},
   "source": [
    "\n",
    "### Initialization\n",
    "\n",
    "- For test version, get `API_KEY` in dashboard page: https://orchestrator-test.swanchain.io\n",
    "- For prod version, get `API_KEY` in dashboard page: https://orchestrator.swanchain.io"
   ]
  },
  {
   "cell_type": "code",
   "execution_count": 7,
   "metadata": {},
   "outputs": [],
   "source": [
    "import sys\n",
    "sys.path.insert(0, '..')\n",
    "\n",
    "import os\n",
    "import time\n",
    "import dotenv\n",
    "dotenv.load_dotenv(\"../.env\")\n",
    "from swan import SwanAPI , MCSAPI\n",
    "\n",
    "dev_url = \"https://swanhub-cali.swanchain.io\"\n",
    "# dev_url = \"http://127.0.0.1:5008\"\n",
    "\n",
    "# Initialize the Swan Service\n",
    "swan_api = SwanAPI(api_key=os.getenv(\"API_KEY\"), environment=dev_url)\n",
    "# for prod version\n",
    "# swan_api = SwanAPI(api_key=os.getenv(\"API_KEY\"))\n",
    "\n",
    "# api_key = os.getenv(\"MCS_API_KEY\")\n",
    "# mcs_api = MCSAPI(api_key)\n",
    "\n",
    "\n",
    "from swan.contract.swan_contract import SwanContract\n",
    "\n",
    "contract = SwanContract(os.getenv('PK'), os.getenv('RPC'))"
   ]
  },
  {
   "cell_type": "markdown",
   "metadata": {},
   "source": [
    "### Get `job_source_uri`\n",
    "to simplify the process, here we use a existing `job_source_uri` which is a hello world application, used to create task."
   ]
  },
  {
   "cell_type": "code",
   "execution_count": 8,
   "metadata": {},
   "outputs": [],
   "source": [
    "# job_source_uri = 'https://test-api.lagrangedao.org/spaces/5117e998-c623-4837-8af9-2b7b0ce2de7f'\n",
    "# job_source_uri = 'https://plutotest.acl.swanipfs.com/ipfs/QmT9PPa1fWLrGcmt7gBaoQxiKPnN5reo6bKYdMz6NWZRLM\n",
    "# job_source_uri = 'https://plutotest.acl.swanipfs.com/ipfs/QmTRxhHrNjz1arPZaUzuAWSYHpZYciKRt39uzwsdRfsuxx'\n",
    "\n",
    "# job_source_uri = 'https://plutotest.acl.swanipfs.com/ipfs/QmTKKtyegQqXqa9yJ5SymTe2ma6JeXvADPCw61eVoMncaV'\n",
    "\n",
    "job_source_uri = 'https://plutotest.acl.swanipfs.com/ipfs/Qmcrvr8S86MwhmSTRJzLg4EdFvr1c22HFEbTdcsc7p1Y7E'"
   ]
  },
  {
   "cell_type": "markdown",
   "metadata": {},
   "source": [
    "### Show available hardware information"
   ]
  },
  {
   "cell_type": "code",
   "execution_count": 9,
   "metadata": {},
   "outputs": [
    {
     "data": {
      "text/plain": [
       "[{'id': 0,\n",
       "  'name': 'C1ae.small',\n",
       "  'description': 'CPU only · 2 vCPU · 2 GiB',\n",
       "  'type': 'CPU',\n",
       "  'reigion': ['North Carolina-US'],\n",
       "  'price': '0.0',\n",
       "  'status': 'available'},\n",
       " {'id': 1,\n",
       "  'name': 'C1ae.medium',\n",
       "  'description': 'CPU only · 4 vCPU · 4 GiB',\n",
       "  'type': 'CPU',\n",
       "  'reigion': ['North Carolina-US'],\n",
       "  'price': '1.0',\n",
       "  'status': 'available'},\n",
       " {'id': 12,\n",
       "  'name': 'G1ae.small',\n",
       "  'description': 'Nvidia 3080 · 4 vCPU · 8 GiB',\n",
       "  'type': 'GPU',\n",
       "  'reigion': ['North Carolina-US'],\n",
       "  'price': '10.0',\n",
       "  'status': 'available'},\n",
       " {'id': 13,\n",
       "  'name': 'G1ae.medium',\n",
       "  'description': 'Nvidia 3080 · 8 vCPU · 16 GiB',\n",
       "  'type': 'GPU',\n",
       "  'reigion': ['North Carolina-US'],\n",
       "  'price': '11.0',\n",
       "  'status': 'available'},\n",
       " {'id': 73,\n",
       "  'name': 'R1ae.medium',\n",
       "  'description': 'Nvidia 3080 · 8 vCPU · 32 GiB',\n",
       "  'type': 'GPU',\n",
       "  'reigion': ['North Carolina-US'],\n",
       "  'price': '22.0',\n",
       "  'status': 'available'}]"
      ]
     },
     "execution_count": 9,
     "metadata": {},
     "output_type": "execute_result"
    }
   ],
   "source": [
    "hardwares = swan_api.get_hardware_config()\n",
    "hardwares_info = [hardware.to_dict() for hardware in hardwares if hardware.status == \"available\"] \n",
    "hardwares_info"
   ]
  },
  {
   "cell_type": "markdown",
   "metadata": {},
   "source": [
    "### Choose hardware config\n",
    "\n",
    "choose the hardware with its config name or hardware id\n",
    "\n",
    "in hardware config, `cfg_name` and `hardware_id` will be used in the steps to deploy task (create task and submit payment)"
   ]
  },
  {
   "cell_type": "code",
   "execution_count": 10,
   "metadata": {},
   "outputs": [
    {
     "name": "stdout",
     "output_type": "stream",
     "text": [
      "hardware.name='C1ae.medium', hardware.id=1, ['North Carolina-US']\n",
      "The chosen hardware_id=1\n"
     ]
    }
   ],
   "source": [
    "cfg_name = 'C1ae.medium' #\"G1ae.medium\"\n",
    "hardware = [hardware for hardware in hardwares if hardware.name == cfg_name][0]\n",
    "print(f\"{hardware.name=}, {hardware.id=}, {hardware.region}\")\n",
    "\n",
    "hardware_id = hardware.id\n",
    "print(f\"The chosen {hardware_id=}\")"
   ]
  },
  {
   "cell_type": "markdown",
   "metadata": {},
   "source": [
    "### Estimate Payment amount"
   ]
  },
  {
   "cell_type": "code",
   "execution_count": 11,
   "metadata": {},
   "outputs": [
    {
     "name": "stdout",
     "output_type": "stream",
     "text": [
      "1000000000000000000\n"
     ]
    }
   ],
   "source": [
    "duration_hour = 1 # hour\n",
    "amount = contract.estimate_payment(hardware_id, duration_hour)\n",
    "print(amount)"
   ]
  },
  {
   "cell_type": "markdown",
   "metadata": {},
   "source": [
    "### Create task\n",
    "\n",
    "This step uses above information to create task, and get `task_uuid`, which is useful in submit payment step."
   ]
  },
  {
   "cell_type": "code",
   "execution_count": 12,
   "metadata": {},
   "outputs": [
    {
     "name": "stderr",
     "output_type": "stream",
     "text": [
      "ERROR:root:SwanAPIRequestException: No C1ae.medium machine in Quebec-CA.Traceback (most recent call last):\n",
      "  File \"..\\swan\\api\\swan_api.py\", line 158, in create_task\n",
      "    raise SwanAPIException(f\"No {cfg_name} machine in {region}.\")\n",
      "swan.common.exception.SwanAPIException: SwanAPIRequestException: No C1ae.medium machine in Quebec-CA.\n",
      "\n"
     ]
    },
    {
     "name": "stdout",
     "output_type": "stream",
     "text": [
      "null\n"
     ]
    },
    {
     "ename": "TypeError",
     "evalue": "'NoneType' object is not subscriptable",
     "output_type": "error",
     "traceback": [
      "\u001b[1;31m---------------------------------------------------------------------------\u001b[0m",
      "\u001b[1;31mTypeError\u001b[0m                                 Traceback (most recent call last)",
      "Cell \u001b[1;32mIn[12], line 14\u001b[0m\n\u001b[0;32m      4\u001b[0m result \u001b[38;5;241m=\u001b[39m swan_api\u001b[38;5;241m.\u001b[39mcreate_task(\n\u001b[0;32m      5\u001b[0m     cfg_name\u001b[38;5;241m=\u001b[39mcfg_name, \n\u001b[0;32m      6\u001b[0m     region\u001b[38;5;241m=\u001b[39m\u001b[38;5;124m'\u001b[39m\u001b[38;5;124mQuebec-CA\u001b[39m\u001b[38;5;124m'\u001b[39m, \n\u001b[1;32m   (...)\u001b[0m\n\u001b[0;32m     11\u001b[0m     wallet_address\u001b[38;5;241m=\u001b[39mos\u001b[38;5;241m.\u001b[39mgetenv(\u001b[38;5;124m'\u001b[39m\u001b[38;5;124mWALLET\u001b[39m\u001b[38;5;124m'\u001b[39m),\n\u001b[0;32m     12\u001b[0m )\n\u001b[0;32m     13\u001b[0m \u001b[38;5;28mprint\u001b[39m(json\u001b[38;5;241m.\u001b[39mdumps(result, indent\u001b[38;5;241m=\u001b[39m\u001b[38;5;241m2\u001b[39m))\n\u001b[1;32m---> 14\u001b[0m task_uuid \u001b[38;5;241m=\u001b[39m \u001b[43mresult\u001b[49m\u001b[43m[\u001b[49m\u001b[38;5;124;43m'\u001b[39;49m\u001b[38;5;124;43mdata\u001b[39;49m\u001b[38;5;124;43m'\u001b[39;49m\u001b[43m]\u001b[49m[\u001b[38;5;124m'\u001b[39m\u001b[38;5;124mtask\u001b[39m\u001b[38;5;124m'\u001b[39m][\u001b[38;5;124m'\u001b[39m\u001b[38;5;124muuid\u001b[39m\u001b[38;5;124m'\u001b[39m]\n",
      "\u001b[1;31mTypeError\u001b[0m: 'NoneType' object is not subscriptable"
     ]
    }
   ],
   "source": [
    "import json\n",
    "duration=3600*duration_hour\n",
    "\n",
    "result = swan_api.create_task(\n",
    "    cfg_name=cfg_name, \n",
    "    region='North Carolina-US', \n",
    "    start_in=5, \n",
    "    duration=duration, \n",
    "    job_source_uri=job_source_uri, \n",
    "    paid=contract._wei_to_swan(amount),\n",
    "    wallet_address=os.getenv('WALLET'),\n",
    ")\n",
    "print(json.dumps(result, indent=2))\n",
    "task_uuid = result['data']['task']['uuid']"
   ]
  },
  {
   "cell_type": "markdown",
   "metadata": {},
   "source": [
    "### Submit Payment\n",
    "\n",
    "This step is using `task_uuid`, `hardware_id` and `duration` to submit payment via **ClientPayment** contract."
   ]
  },
  {
   "cell_type": "code",
   "execution_count": null,
   "metadata": {},
   "outputs": [
    {
     "name": "stdout",
     "output_type": "stream",
     "text": [
      "0x4f18c5779e15cd29c7ec82faf02286f8fd1c854485f0e37898de93c424430c64\n"
     ]
    }
   ],
   "source": [
    "tx_hash = contract.submit_payment(task_uuid, hardware_id, duration)\n",
    "print(tx_hash)"
   ]
  },
  {
   "cell_type": "markdown",
   "metadata": {},
   "source": [
    "### Validate Payment to deploy task\n",
    "\n",
    "This step will validate the payment and then make task eligible for assigning if validation successful"
   ]
  },
  {
   "cell_type": "code",
   "execution_count": null,
   "metadata": {},
   "outputs": [
    {
     "name": "stdout",
     "output_type": "stream",
     "text": [
      "{'tx_hash': '0x4f18c5779e15cd29c7ec82faf02286f8fd1c854485f0e37898de93c424430c64', 'task_uuid': 'bf7d5ef9-6450-4b82-8ebe-1e27c6b1aa4c'}\n",
      "{\n",
      "  \"data\": {\n",
      "    \"task\": {\n",
      "      \"created_at\": \"1713815905\",\n",
      "      \"end_at\": \"1713819504\",\n",
      "      \"leading_job_id\": null,\n",
      "      \"refund_amount\": null,\n",
      "      \"status\": \"created\",\n",
      "      \"task_detail_cid\": \"https://data.mcs.lagrangedao.org/ipfs/QmYys2w3kUTAFRU7r9UjwUhaaUNRFwg7VUcAXhyyEqYqMR\",\n",
      "      \"tx_hash\": null,\n",
      "      \"updated_at\": \"1713815916\",\n",
      "      \"uuid\": \"bf7d5ef9-6450-4b82-8ebe-1e27c6b1aa4c\"\n",
      "    }\n",
      "  },\n",
      "  \"message\": \"Task payment validated successfully.\",\n",
      "  \"status\": \"success\"\n",
      "}\n"
     ]
    }
   ],
   "source": [
    "if result_validation := swan_api.validate_payment(\n",
    "    tx_hash=tx_hash,\n",
    "    task_uuid=task_uuid\n",
    "):\n",
    "    print(json.dumps(result_validation, indent=2))\n",
    "else:\n",
    "    print('validation failed')"
   ]
  },
  {
   "cell_type": "markdown",
   "metadata": {},
   "source": [
    "### follow up task status (optional)\n",
    "The following step is optional, shows information when waiting for task being deployed."
   ]
  },
  {
   "cell_type": "code",
   "execution_count": null,
   "metadata": {},
   "outputs": [
    {
     "name": "stdout",
     "output_type": "stream",
     "text": [
      "{\n",
      "  \"data\": {\n",
      "    \"computing_providers\": [],\n",
      "    \"jobs\": [],\n",
      "    \"task\": {\n",
      "      \"created_at\": \"1713815905\",\n",
      "      \"end_at\": \"1713819504\",\n",
      "      \"leading_job_id\": null,\n",
      "      \"refund_amount\": null,\n",
      "      \"status\": \"created\",\n",
      "      \"task_detail_cid\": \"https://data.mcs.lagrangedao.org/ipfs/QmYys2w3kUTAFRU7r9UjwUhaaUNRFwg7VUcAXhyyEqYqMR\",\n",
      "      \"tx_hash\": null,\n",
      "      \"updated_at\": \"1713815916\",\n",
      "      \"uuid\": \"bf7d5ef9-6450-4b82-8ebe-1e27c6b1aa4c\"\n",
      "    }\n",
      "  },\n",
      "  \"message\": \"fetch task info for task_uuid='bf7d5ef9-6450-4b82-8ebe-1e27c6b1aa4c' successfully\",\n",
      "  \"status\": \"success\"\n",
      "}\n"
     ]
    }
   ],
   "source": [
    "# Check task info\n",
    "info = swan_api.get_deployment_info(task_uuid=task_uuid)\n",
    "print(json.dumps(info, indent=2))"
   ]
  },
  {
   "cell_type": "markdown",
   "metadata": {},
   "source": [
    "### Show result\n",
    "\n",
    "`job_real_uri` is for show the result of application you deployed."
   ]
  },
  {
   "cell_type": "code",
   "execution_count": 13,
   "metadata": {},
   "outputs": [
    {
     "ename": "NameError",
     "evalue": "name 'task_uuid' is not defined",
     "output_type": "error",
     "traceback": [
      "\u001b[1;31m---------------------------------------------------------------------------\u001b[0m",
      "\u001b[1;31mNameError\u001b[0m                                 Traceback (most recent call last)",
      "Cell \u001b[1;32mIn[13], line 1\u001b[0m\n\u001b[1;32m----> 1\u001b[0m r \u001b[38;5;241m=\u001b[39m swan_api\u001b[38;5;241m.\u001b[39mget_real_url(\u001b[43mtask_uuid\u001b[49m)\n\u001b[0;32m      2\u001b[0m \u001b[38;5;28mprint\u001b[39m(r)\n",
      "\u001b[1;31mNameError\u001b[0m: name 'task_uuid' is not defined"
     ]
    }
   ],
   "source": [
    "r = swan_api.get_real_url(task_uuid)\n",
    "print(r)"
   ]
  },
  {
   "cell_type": "code",
   "execution_count": null,
   "metadata": {},
   "outputs": [
    {
     "ename": "IndexError",
     "evalue": "list index out of range",
     "output_type": "error",
     "traceback": [
      "\u001b[1;31m---------------------------------------------------------------------------\u001b[0m",
      "\u001b[1;31mIndexError\u001b[0m                                Traceback (most recent call last)",
      "Cell \u001b[1;32mIn[11], line 8\u001b[0m\n\u001b[0;32m      2\u001b[0m \u001b[38;5;28;01mimport\u001b[39;00m \u001b[38;5;21;01mjson\u001b[39;00m\n\u001b[0;32m      4\u001b[0m headers \u001b[38;5;241m=\u001b[39m {\n\u001b[0;32m      5\u001b[0m     \u001b[38;5;124m'\u001b[39m\u001b[38;5;124mContent-Type\u001b[39m\u001b[38;5;124m'\u001b[39m: \u001b[38;5;124m'\u001b[39m\u001b[38;5;124mapplication/json\u001b[39m\u001b[38;5;124m'\u001b[39m,\n\u001b[0;32m      6\u001b[0m }\n\u001b[1;32m----> 8\u001b[0m response \u001b[38;5;241m=\u001b[39m requests\u001b[38;5;241m.\u001b[39mget(\u001b[43mr\u001b[49m\u001b[43m[\u001b[49m\u001b[38;5;241;43m0\u001b[39;49m\u001b[43m]\u001b[49m, headers\u001b[38;5;241m=\u001b[39mheaders)\n\u001b[0;32m     10\u001b[0m \u001b[38;5;28;01mtry\u001b[39;00m:\n\u001b[0;32m     11\u001b[0m     \u001b[38;5;28mprint\u001b[39m(json\u001b[38;5;241m.\u001b[39mdumps(response\u001b[38;5;241m.\u001b[39mjson(), indent\u001b[38;5;241m=\u001b[39m\u001b[38;5;241m4\u001b[39m))\n",
      "\u001b[1;31mIndexError\u001b[0m: list index out of range"
     ]
    }
   ],
   "source": [
    "import requests\n",
    "import json\n",
    "\n",
    "headers = {\n",
    "    'Content-Type': 'application/json',\n",
    "}\n",
    "\n",
    "response = requests.get(r[0], headers=headers)\n",
    "\n",
    "try:\n",
    "    print(json.dumps(response.json(), indent=4))\n",
    "except Exception as e:\n",
    "    print(e)\n",
    "    print(response)\n"
   ]
  }
 ],
 "metadata": {
  "kernelspec": {
   "display_name": "swanchain",
   "language": "python",
   "name": "python3"
  },
  "language_info": {
   "codemirror_mode": {
    "name": "ipython",
    "version": 3
   },
   "file_extension": ".py",
   "mimetype": "text/x-python",
   "name": "python",
   "nbconvert_exporter": "python",
   "pygments_lexer": "ipython3",
   "version": "3.8.9"
  }
 },
 "nbformat": 4,
 "nbformat_minor": 2
}
