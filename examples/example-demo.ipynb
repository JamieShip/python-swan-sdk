{
 "cells": [
  {
   "cell_type": "markdown",
   "metadata": {},
   "source": [
    "## Demo for SDK (latest)\n",
    "\n",
    "This example shows how to use SDK to deploy a task. The demo notebook includes the following steps:\n",
    "- [initialization](#initialization)\n",
    "- [show available hardware info list](#show-available-hardware-information)\n",
    "- [choose hardware config](#choose-hardware-config)\n",
    "- [get `job_source_uri`](#get-job_source_uri)\n",
    "- [estimate payment amount](#estimate-payment-amount)\n",
    "- [create task to get `task_uuid`](#create-task)\n",
    "- [submit payment](#submit-payment)\n",
    "- [validate payment](#validate-payment-to-deploy-task)\n",
    "- [follow up task status](#follow-up-task-status-optional)\n",
    "- [show result](#show-result)\n"
   ]
  },
  {
   "cell_type": "markdown",
   "metadata": {},
   "source": [
    "\n",
    "### Initialization\n",
    "\n",
    "#### get an `API_KEY`\n",
    "\n",
    "- For test version, get `API_KEY` in dashboard page: https://orchestrator-test.swanchain.io\n",
    "- For prod version, get `API_KEY` in dashboard page: https://orchestrator.swanchain.io"
   ]
  },
  {
   "cell_type": "code",
   "execution_count": 1,
   "metadata": {},
   "outputs": [],
   "source": [
    "import sys\n",
    "sys.path.insert(0, '..')\n",
    "\n",
    "import os\n",
    "import time\n",
    "import dotenv\n",
    "dotenv.load_dotenv()\n",
    "from swan import SwanAPI\n",
    "\n",
    "# dev_url = \"https://swanhub-cali.swanchain.io\"\n",
    "# dev_url = \"http://127.0.0.1:5008\"\n",
    "\n",
    "# Initialize the Swan Service\n",
    "# dev\n",
    "# swan_api = SwanAPI(api_key=os.getenv(\"API_KEY\"), environment=dev_url)\n",
    "# prod\n",
    "swan_api = SwanAPI(api_key=os.getenv(\"API_KEY\"))\n",
    "\n",
    "from swan.contract.swan_contract import SwanContract\n",
    "\n",
    "contract = SwanContract(os.getenv('PK'), swan_api.contract_info)"
   ]
  },
  {
   "cell_type": "code",
   "execution_count": 2,
   "metadata": {},
   "outputs": [
    {
     "name": "stdout",
     "output_type": "stream",
     "text": [
      "{'client_contract_address': '0x20a67c6Bea000fAf0BE862BB254F092abF0E5b98', 'payment_contract_address': '0x5094A609Af5184d076Be2DF741820732126b4Fd2', 'rpc_url': 'https://rpc-atom-internal.swanchain.io', 'swan_token_contract_address': '0x91B25A65b295F0405552A4bbB77879ab5e38166c'}\n"
     ]
    }
   ],
   "source": [
    "r = swan_api.contract_info\n",
    "print(r)"
   ]
  },
  {
   "cell_type": "markdown",
   "metadata": {},
   "source": [
    "### Show available hardware information"
   ]
  },
  {
   "cell_type": "code",
   "execution_count": 3,
   "metadata": {},
   "outputs": [
    {
     "data": {
      "text/plain": [
       "{'id': 0,\n",
       " 'name': 'C1ae.small',\n",
       " 'description': 'CPU only · 2 vCPU · 2 GiB',\n",
       " 'type': 'CPU',\n",
       " 'reigion': ['North Carolina-US',\n",
       "  'Bashkortostan Republic-RU',\n",
       "  'Kyiv City-UA',\n",
       "  'Kowloon City-HK',\n",
       "  'Tokyo-JP',\n",
       "  'California-US',\n",
       "  'Central and Western District-HK',\n",
       "  'Quebec-CA',\n",
       "  'North West-SG',\n",
       "  'Kwai Tsing-HK',\n",
       "  'Bavaria-DE',\n",
       "  'Saxony-DE',\n",
       "  'Guangdong-CN',\n",
       "  'Kowloon-HK',\n",
       "  'North Rhine-Westphalia-DE'],\n",
       " 'price': '0.0',\n",
       " 'status': 'available'}"
      ]
     },
     "execution_count": 3,
     "metadata": {},
     "output_type": "execute_result"
    }
   ],
   "source": [
    "hardwares = swan_api.get_hardware_config()\n",
    "hardwares_info = [hardware.to_dict() for hardware in hardwares if hardware.status == \"available\"] \n",
    "hardwares_info"
   ]
  },
  {
   "cell_type": "markdown",
   "metadata": {},
   "source": [
    "### Choose hardware config\n",
    "\n",
    "choose the hardware with its config name or hardware id\n",
    "\n",
    "in hardware config, `cfg_name` and `hardware_id` will be used in the steps to deploy task (create task and submit payment)"
   ]
  },
  {
   "cell_type": "code",
   "execution_count": 6,
   "metadata": {},
   "outputs": [
    {
     "name": "stdout",
     "output_type": "stream",
     "text": [
      "hardware.name='C1ae.medium', hardware.id=1, ['North Carolina-US', 'Bashkortostan Republic-RU', 'Kyiv City-UA', 'Kowloon City-HK', 'Tokyo-JP', 'California-US', 'Central and Western District-HK', 'Quebec-CA', 'North West-SG', 'Kwai Tsing-HK', 'Bavaria-DE', 'Guangdong-CN', 'Kowloon-HK', 'North Rhine-Westphalia-DE']\n",
      "The chosen hardware_id=1\n"
     ]
    }
   ],
   "source": [
    "cfg_name = 'C1ae.medium' #\"G1ae.medium\"\n",
    "hardware = [hardware for hardware in hardwares if hardware.name == cfg_name][0]\n",
    "print(f\"{hardware.name=}, {hardware.id=}, {hardware.region}\")\n",
    "\n",
    "hardware_id = hardware.id\n",
    "print(f\"The chosen {hardware_id=}\")"
   ]
  },
  {
   "cell_type": "code",
   "execution_count": 15,
   "metadata": {},
   "outputs": [
    {
     "data": {
      "text/plain": [
       "1"
      ]
     },
     "execution_count": 15,
     "metadata": {},
     "output_type": "execute_result"
    }
   ],
   "source": [
    "hardware_id"
   ]
  },
  {
   "cell_type": "markdown",
   "metadata": {},
   "source": [
    "### Get `job_source_uri`\n",
    "\n",
    "We can use the `get_source_uri` interface to get a `job_source_uri` for creating task."
   ]
  },
  {
   "cell_type": "code",
   "execution_count": 7,
   "metadata": {},
   "outputs": [],
   "source": [
    "\n",
    "job_source_uri = swan_api.get_source_uri(\n",
    "    repo_uri='https://github.com/alphaflows/tetris-docker-image',\n",
    "    hardware_id=hardware_id,\n",
    "    wallet_address=os.getenv('WALLET')\n",
    ")"
   ]
  },
  {
   "cell_type": "code",
   "execution_count": 8,
   "metadata": {},
   "outputs": [],
   "source": [
    "if job_source_uri and job_source_uri.get('data'):\n",
    "    job_source_uri = job_source_uri['data']['job_source_uri']"
   ]
  },
  {
   "cell_type": "code",
   "execution_count": 9,
   "metadata": {},
   "outputs": [
    {
     "data": {
      "text/plain": [
       "'https://data.mcs.lagrangedao.org/ipfs/QmSc5G8YdR4d6WQFJm844FqS4F8qAGWpo5YXr5auVamh9M'"
      ]
     },
     "execution_count": 9,
     "metadata": {},
     "output_type": "execute_result"
    }
   ],
   "source": [
    "job_source_uri"
   ]
  },
  {
   "cell_type": "markdown",
   "metadata": {},
   "source": [
    "### Estimate Payment amount"
   ]
  },
  {
   "cell_type": "code",
   "execution_count": 19,
   "metadata": {},
   "outputs": [
    {
     "name": "stdout",
     "output_type": "stream",
     "text": [
      "1000000000000000000\n"
     ]
    }
   ],
   "source": [
    "duration_hour = 1 # hour\n",
    "amount = contract.estimate_payment(hardware_id, duration_hour)\n",
    "print(amount)"
   ]
  },
  {
   "cell_type": "markdown",
   "metadata": {},
   "source": [
    "### Create task\n",
    "\n",
    "This step uses above information to create task, and get `task_uuid`, which is useful in submit payment step."
   ]
  },
  {
   "cell_type": "code",
   "execution_count": 20,
   "metadata": {},
   "outputs": [
    {
     "name": "stdout",
     "output_type": "stream",
     "text": [
      "{\n",
      "  \"data\": {\n",
      "    \"task\": {\n",
      "      \"created_at\": \"1714254304\",\n",
      "      \"end_at\": \"1714257898\",\n",
      "      \"leading_job_id\": null,\n",
      "      \"refund_amount\": null,\n",
      "      \"status\": \"initialized\",\n",
      "      \"task_detail_cid\": \"https://data.mcs.lagrangedao.org/ipfs/QmXLSaBqtoWZWAUoiYxM3EDxh14kkhpUiYkVjZSK3BhfKj\",\n",
      "      \"tx_hash\": null,\n",
      "      \"updated_at\": \"1714254304\",\n",
      "      \"uuid\": \"f4799212-4dc2-4c0b-9209-c0ac7bc48442\"\n",
      "    }\n",
      "  },\n",
      "  \"message\": \"Task_uuid initialized.\",\n",
      "  \"status\": \"success\"\n",
      "}\n"
     ]
    }
   ],
   "source": [
    "import json\n",
    "\n",
    "duration=3600*duration_hour\n",
    "\n",
    "result = swan_api.create_task(\n",
    "    cfg_name=cfg_name, \n",
    "    region='North Carolina-US', \n",
    "    start_in=300, \n",
    "    duration=duration, \n",
    "    job_source_uri=job_source_uri,#repo.source_uri, \n",
    "    paid=contract._wei_to_swan(amount),\n",
    "    wallet_address=os.getenv('WALLET'),\n",
    ")\n",
    "print(json.dumps(result, indent=2))\n",
    "task_uuid = result['data']['task']['uuid']"
   ]
  },
  {
   "cell_type": "markdown",
   "metadata": {},
   "source": [
    "### Submit Payment\n",
    "\n",
    "This step is using `task_uuid`, `hardware_id` and `duration` to submit payment via **ClientPayment** contract."
   ]
  },
  {
   "cell_type": "code",
   "execution_count": 21,
   "metadata": {},
   "outputs": [
    {
     "name": "stdout",
     "output_type": "stream",
     "text": [
      "0x6aa4b358a4febbc00f4cc44d24ff3a02244f888aa1e569913f8f5e9d541cbb2d\n"
     ]
    }
   ],
   "source": [
    "tx_hash = contract.submit_payment(task_uuid, hardware_id, duration)\n",
    "print(tx_hash)"
   ]
  },
  {
   "cell_type": "markdown",
   "metadata": {},
   "source": [
    "### Validate Payment to deploy task\n",
    "\n",
    "This step will validate the payment and then make task eligible for assigning if validation successful"
   ]
  },
  {
   "cell_type": "code",
   "execution_count": 22,
   "metadata": {},
   "outputs": [
    {
     "name": "stdout",
     "output_type": "stream",
     "text": [
      "{'tx_hash': '0x6aa4b358a4febbc00f4cc44d24ff3a02244f888aa1e569913f8f5e9d541cbb2d', 'task_uuid': 'f4799212-4dc2-4c0b-9209-c0ac7bc48442'}\n",
      "{\n",
      "  \"data\": {\n",
      "    \"task\": {\n",
      "      \"created_at\": \"1714254304\",\n",
      "      \"end_at\": \"1714257898\",\n",
      "      \"leading_job_id\": null,\n",
      "      \"refund_amount\": null,\n",
      "      \"status\": \"created\",\n",
      "      \"task_detail_cid\": \"https://data.mcs.lagrangedao.org/ipfs/QmXLSaBqtoWZWAUoiYxM3EDxh14kkhpUiYkVjZSK3BhfKj\",\n",
      "      \"tx_hash\": null,\n",
      "      \"updated_at\": \"1714254312\",\n",
      "      \"uuid\": \"f4799212-4dc2-4c0b-9209-c0ac7bc48442\"\n",
      "    }\n",
      "  },\n",
      "  \"message\": \"Task payment validated successfully.\",\n",
      "  \"status\": \"success\"\n",
      "}\n"
     ]
    }
   ],
   "source": [
    "if result_validation := swan_api.validate_payment(\n",
    "    tx_hash=tx_hash,\n",
    "    task_uuid=task_uuid\n",
    "):\n",
    "    print(json.dumps(result_validation, indent=2))\n",
    "else:\n",
    "    print('validation failed')"
   ]
  },
  {
   "cell_type": "markdown",
   "metadata": {},
   "source": [
    "### follow up task status (optional)\n",
    "The following step is optional, shows information when waiting for task being deployed."
   ]
  },
  {
   "cell_type": "code",
   "execution_count": 23,
   "metadata": {},
   "outputs": [
    {
     "name": "stdout",
     "output_type": "stream",
     "text": [
      "{\n",
      "  \"data\": {\n",
      "    \"computing_providers\": [],\n",
      "    \"jobs\": [],\n",
      "    \"task\": {\n",
      "      \"created_at\": \"1714254304\",\n",
      "      \"end_at\": \"1714257898\",\n",
      "      \"leading_job_id\": null,\n",
      "      \"refund_amount\": null,\n",
      "      \"status\": \"created\",\n",
      "      \"task_detail_cid\": \"https://data.mcs.lagrangedao.org/ipfs/QmXLSaBqtoWZWAUoiYxM3EDxh14kkhpUiYkVjZSK3BhfKj\",\n",
      "      \"tx_hash\": null,\n",
      "      \"updated_at\": \"1714254312\",\n",
      "      \"uuid\": \"f4799212-4dc2-4c0b-9209-c0ac7bc48442\"\n",
      "    }\n",
      "  },\n",
      "  \"message\": \"fetch task info for task_uuid='f4799212-4dc2-4c0b-9209-c0ac7bc48442' successfully\",\n",
      "  \"status\": \"success\"\n",
      "}\n"
     ]
    }
   ],
   "source": [
    "# Check task info\n",
    "info = swan_api.get_deployment_info(task_uuid=task_uuid)\n",
    "print(json.dumps(info, indent=2))"
   ]
  },
  {
   "cell_type": "markdown",
   "metadata": {},
   "source": [
    "### Show result\n",
    "\n",
    "`job_real_uri` is for show the result of application you deployed.  \n",
    "You can put it into the web browser to view application."
   ]
  },
  {
   "cell_type": "code",
   "execution_count": 28,
   "metadata": {},
   "outputs": [
    {
     "name": "stdout",
     "output_type": "stream",
     "text": [
      "['https://1aql2r340t.computing.nebulablock.com', 'https://e958tag7ox.lag.nebulablock.com', 'https://hygltuf3x5.computing.storefrontiers.cn']\n"
     ]
    }
   ],
   "source": [
    "r = swan_api.get_real_url(task_uuid)\n",
    "print(r)"
   ]
  },
  {
   "cell_type": "code",
   "execution_count": 25,
   "metadata": {},
   "outputs": [
    {
     "ename": "IndexError",
     "evalue": "list index out of range",
     "output_type": "error",
     "traceback": [
      "\u001b[0;31m---------------------------------------------------------------------------\u001b[0m",
      "\u001b[0;31mIndexError\u001b[0m                                Traceback (most recent call last)",
      "Cell \u001b[0;32mIn[25], line 8\u001b[0m\n\u001b[1;32m      2\u001b[0m \u001b[38;5;28;01mimport\u001b[39;00m \u001b[38;5;21;01mjson\u001b[39;00m\n\u001b[1;32m      4\u001b[0m headers \u001b[38;5;241m=\u001b[39m {\n\u001b[1;32m      5\u001b[0m     \u001b[38;5;124m'\u001b[39m\u001b[38;5;124mContent-Type\u001b[39m\u001b[38;5;124m'\u001b[39m: \u001b[38;5;124m'\u001b[39m\u001b[38;5;124mapplication/json\u001b[39m\u001b[38;5;124m'\u001b[39m,\n\u001b[1;32m      6\u001b[0m }\n\u001b[0;32m----> 8\u001b[0m response \u001b[38;5;241m=\u001b[39m requests\u001b[38;5;241m.\u001b[39mget(\u001b[43mr\u001b[49m\u001b[43m[\u001b[49m\u001b[38;5;241;43m0\u001b[39;49m\u001b[43m]\u001b[49m, headers\u001b[38;5;241m=\u001b[39mheaders)\n\u001b[1;32m     10\u001b[0m \u001b[38;5;28;01mtry\u001b[39;00m:\n\u001b[1;32m     11\u001b[0m     \u001b[38;5;28mprint\u001b[39m(json\u001b[38;5;241m.\u001b[39mdumps(response\u001b[38;5;241m.\u001b[39mjson(), indent\u001b[38;5;241m=\u001b[39m\u001b[38;5;241m4\u001b[39m))\n",
      "\u001b[0;31mIndexError\u001b[0m: list index out of range"
     ]
    }
   ],
   "source": [
    "import requests\n",
    "import json\n",
    "\n",
    "headers = {\n",
    "    'Content-Type': 'application/json',\n",
    "}\n",
    "\n",
    "response = requests.get(r[0], headers=headers)\n",
    "\n",
    "try:\n",
    "    print(json.dumps(response.json(), indent=4))\n",
    "except Exception as e:\n",
    "    print(e)\n",
    "    print(response)\n"
   ]
  }
 ],
 "metadata": {
  "kernelspec": {
   "display_name": "swanchain",
   "language": "python",
   "name": "python3"
  },
  "language_info": {
   "codemirror_mode": {
    "name": "ipython",
    "version": 3
   },
   "file_extension": ".py",
   "mimetype": "text/x-python",
   "name": "python",
   "nbconvert_exporter": "python",
   "pygments_lexer": "ipython3",
   "version": "3.10.14"
  }
 },
 "nbformat": 4,
 "nbformat_minor": 2
}
