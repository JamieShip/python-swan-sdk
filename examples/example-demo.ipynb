{
 "cells": [
  {
   "cell_type": "markdown",
   "metadata": {},
   "source": [
    "## Demo for SDK (latest)\n",
    "\n",
    "This example shows how to use SDK to deploy a task. The notebook includes the following steps:\n",
    "- [initialization](#initialization)\n",
    "- [show available hardware info list](#show-available-hardware-information)\n",
    "- [get `job_source_uri`](#get-job_source_uri)\n",
    "- [choose hardware config](#choose-hardware-config)\n",
    "- [estimate payment amount](#estimate-payment-amount)\n",
    "- [create task to get `task_uuid`](#create-task)\n",
    "- [submit payment](#submit-payment)\n",
    "- [validate payment](#validate-payment-to-deploy-task)\n",
    "- [follow up task status](#follow-up-task-status-optional)\n",
    "- [show result](#show-result)\n"
   ]
  },
  {
   "cell_type": "markdown",
   "metadata": {},
   "source": [
    "\n",
    "### Initialization\n",
    "\n",
    "- For test version, get `API_KEY` in dashboard page: https://orchestrator-test.swanchain.io\n",
    "- For prod version, get `API_KEY` in dashboard page: https://orchestrator.swanchain.io"
   ]
  },
  {
   "cell_type": "code",
   "execution_count": 1,
   "metadata": {},
   "outputs": [],
   "source": [
    "import sys\n",
    "sys.path.insert(0, '..')\n",
    "\n",
    "import os\n",
    "import time\n",
    "import dotenv\n",
    "dotenv.load_dotenv()\n",
    "from swan import SwanAPI , MCSAPI\n",
    "\n",
    "dev_url = \"https://swanhub-cali.swanchain.io\"\n",
    "# dev_url = \"http://127.0.0.1:5008\"\n",
    "\n",
    "# Initialize the Swan Service\n",
    "swan_api = SwanAPI(api_key=os.getenv(\"API_KEY\"), environment=dev_url)\n",
    "# swan_api = SwanAPI(api_key=os.getenv(\"API_KEY\"))    # prod\n",
    "# for prod version\n",
    "# swan_api = SwanAPI(api_key=os.getenv(\"API_KEY\"))\n",
    "\n",
    "api_key = os.getenv(\"MCS_API_KEY\")\n",
    "mcs_api = MCSAPI(api_key)\n",
    "\n",
    "\n",
    "from swan.contract.swan_contract import SwanContract\n",
    "\n",
    "contract = SwanContract(os.getenv('PK'), swan_api.contract_info)"
   ]
  },
  {
   "cell_type": "code",
   "execution_count": 2,
   "metadata": {},
   "outputs": [
    {
     "name": "stdout",
     "output_type": "stream",
     "text": [
      "{'client_contract_address': '0x9c5397F804f6663326151c81bBD82bb1451059E8', 'payment_contract_address': '0xB48c5D1c025655BA79Ac4E10C0F19523dB97c816', 'rpc_url': 'https://rpc-atom-internal.swanchain.io', 'swan_token_contract_address': '0x91B25A65b295F0405552A4bbB77879ab5e38166c'}\n"
     ]
    }
   ],
   "source": [
    "r = swan_api.contract_info\n",
    "print(r)"
   ]
  },
  {
   "cell_type": "markdown",
   "metadata": {},
   "source": [
    "### Show available hardware information"
   ]
  },
  {
   "cell_type": "code",
   "execution_count": 3,
   "metadata": {},
   "outputs": [
    {
     "data": {
      "text/plain": [
       "[{'id': 0,\n",
       "  'name': 'C1ae.small',\n",
       "  'description': 'CPU only · 2 vCPU · 2 GiB',\n",
       "  'type': 'CPU',\n",
       "  'reigion': ['Quebec-CA'],\n",
       "  'price': '0.0',\n",
       "  'status': 'available'},\n",
       " {'id': 1,\n",
       "  'name': 'C1ae.medium',\n",
       "  'description': 'CPU only · 4 vCPU · 4 GiB',\n",
       "  'type': 'CPU',\n",
       "  'reigion': ['Quebec-CA'],\n",
       "  'price': '1.0',\n",
       "  'status': 'available'},\n",
       " {'id': 20,\n",
       "  'name': 'Hpc1ae.small',\n",
       "  'description': 'Nvidia 3090 · 4 vCPU · 8 GiB',\n",
       "  'type': 'GPU',\n",
       "  'reigion': ['Quebec-CA'],\n",
       "  'price': '14.0',\n",
       "  'status': 'available'},\n",
       " {'id': 21,\n",
       "  'name': 'Hpc1ae.medium',\n",
       "  'description': 'Nvidia 3090 · 8 vCPU · 16 GiB',\n",
       "  'type': 'GPU',\n",
       "  'reigion': ['Quebec-CA'],\n",
       "  'price': '16.0',\n",
       "  'status': 'available'},\n",
       " {'id': 74,\n",
       "  'name': 'R1ae.large',\n",
       "  'description': 'Nvidia 3090 · 8 vCPU · 32 GiB',\n",
       "  'type': 'GPU',\n",
       "  'reigion': ['Quebec-CA'],\n",
       "  'price': '30.0',\n",
       "  'status': 'available'}]"
      ]
     },
     "execution_count": 3,
     "metadata": {},
     "output_type": "execute_result"
    }
   ],
   "source": [
    "hardwares = swan_api.get_hardware_config()\n",
    "hardwares_info = [hardware.to_dict() for hardware in hardwares if hardware.status == \"available\"] \n",
    "hardwares_info"
   ]
  },
  {
   "cell_type": "markdown",
   "metadata": {},
   "source": [
    "### Choose hardware config\n",
    "\n",
    "choose the hardware with its config name or hardware id\n",
    "\n",
    "in hardware config, `cfg_name` and `hardware_id` will be used in the steps to deploy task (create task and submit payment)"
   ]
  },
  {
   "cell_type": "code",
   "execution_count": 4,
   "metadata": {},
   "outputs": [
    {
     "name": "stdout",
     "output_type": "stream",
     "text": [
      "hardware.name='C1ae.medium', hardware.id=1, ['Quebec-CA']\n",
      "The chosen hardware_id=1\n"
     ]
    }
   ],
   "source": [
    "cfg_name = 'C1ae.medium' #\"G1ae.medium\"\n",
    "hardware = [hardware for hardware in hardwares if hardware.name == cfg_name][0]\n",
    "print(f\"{hardware.name=}, {hardware.id=}, {hardware.region}\")\n",
    "\n",
    "hardware_id = hardware.id\n",
    "print(f\"The chosen {hardware_id=}\")"
   ]
  },
  {
   "cell_type": "markdown",
   "metadata": {},
   "source": [
    "### Get `job_source_uri`\n",
    "to simplify the process, here we use a existing `job_source_uri` which is a hello world application, used to create task."
   ]
  },
  {
   "cell_type": "code",
   "execution_count": 48,
   "metadata": {},
   "outputs": [
    {
     "name": "stderr",
     "output_type": "stream",
     "text": [
      "mar8s1: 1.12kB [15:40, 1.22B/s] \n",
      "mar8s1: 1.12kB [00:00, 9.83kB/s]                 "
     ]
    },
    {
     "name": "stdout",
     "output_type": "stream",
     "text": [
      "https://plutotest.acl.swanipfs.com/ipfs/QmRpUkGYN3S8cqWKX4ji59rnPetuqRxtqKisV2Pdjm8trU\n"
     ]
    }
   ],
   "source": [
    "\n",
    "from swan.object.source_uri import GithubRepo\n",
    "\n",
    "repo = GithubRepo(\"alphaflows\", \"tetris-docker-image\", \"main\", os.getenv('WALLET'), hardwares[hardware_id])\n",
    "\n",
    "repo.get_github_tree()\n",
    "\n",
    "# Upload Directory to MCS\n",
    "response = repo.generate_source_uri('swan_test', 'mar8s1', './source.json', mcs_client = mcs_api)\n",
    "\n",
    "print(repo.source_uri)\n",
    "job_source_uri=repo.source_uri\n",
    "# job_source_uri = 'https://test-api.lagrangedao.org/spaces/5117e998-c623-4837-8af9-2b7b0ce2de7f'"
   ]
  },
  {
   "cell_type": "code",
   "execution_count": 5,
   "metadata": {},
   "outputs": [],
   "source": [
    "# job_source_uri='https://plutotest.acl.swanipfs.com/ipfs/QmPwg1ZNn2HR6WA3zTv3iLQ4qjpv8UjZad7LcRHwEhnK6n'"
   ]
  },
  {
   "cell_type": "markdown",
   "metadata": {},
   "source": [
    "### Estimate Payment amount"
   ]
  },
  {
   "cell_type": "code",
   "execution_count": 6,
   "metadata": {},
   "outputs": [
    {
     "name": "stdout",
     "output_type": "stream",
     "text": [
      "1000000000000000000\n"
     ]
    }
   ],
   "source": [
    "duration_hour = 1 # hour\n",
    "amount = contract.estimate_payment(hardware_id, duration_hour)\n",
    "print(amount)"
   ]
  },
  {
   "cell_type": "markdown",
   "metadata": {},
   "source": [
    "### Create task\n",
    "\n",
    "This step uses above information to create task, and get `task_uuid`, which is useful in submit payment step."
   ]
  },
  {
   "cell_type": "code",
   "execution_count": 7,
   "metadata": {},
   "outputs": [
    {
     "name": "stdout",
     "output_type": "stream",
     "text": [
      "{\n",
      "  \"data\": {\n",
      "    \"task\": {\n",
      "      \"created_at\": \"1714078848\",\n",
      "      \"end_at\": \"1714082444\",\n",
      "      \"leading_job_id\": null,\n",
      "      \"refund_amount\": null,\n",
      "      \"status\": \"initialized\",\n",
      "      \"task_detail_cid\": \"https://plutotest.acl.swanipfs.com/ipfs/QmRy43gokWME7KNkYpbGLxi33Dwk1PuRVtQbWxHivnUZdd\",\n",
      "      \"tx_hash\": null,\n",
      "      \"updated_at\": \"1714078848\",\n",
      "      \"uuid\": \"2a81ab7a-b0ff-4895-b401-2d81998a8fa5\"\n",
      "    }\n",
      "  },\n",
      "  \"message\": \"Task_uuid initialized.\",\n",
      "  \"status\": \"success\"\n",
      "}\n"
     ]
    }
   ],
   "source": [
    "import json\n",
    "\n",
    "duration=3600*duration_hour\n",
    "\n",
    "result = swan_api.create_task(\n",
    "    cfg_name=cfg_name, \n",
    "    region='Quebec-CA', \n",
    "    start_in=5, \n",
    "    duration=duration, \n",
    "    job_source_uri=job_source_uri,#repo.source_uri, \n",
    "    paid=contract._wei_to_swan(amount),\n",
    "    wallet_address=os.getenv('WALLET'),\n",
    ")\n",
    "print(json.dumps(result, indent=2))\n",
    "task_uuid = result['data']['task']['uuid']"
   ]
  },
  {
   "cell_type": "markdown",
   "metadata": {},
   "source": [
    "### Submit Payment\n",
    "\n",
    "This step is using `task_uuid`, `hardware_id` and `duration` to submit payment via **ClientPayment** contract."
   ]
  },
  {
   "cell_type": "code",
   "execution_count": 8,
   "metadata": {},
   "outputs": [
    {
     "name": "stdout",
     "output_type": "stream",
     "text": [
      "0x2f89cbc50b5ed6664f2be0d1486c49a378a5ca1931af2f015045227aaa2b898a\n"
     ]
    }
   ],
   "source": [
    "tx_hash = contract.submit_payment(task_uuid, hardware_id, duration)\n",
    "print(tx_hash)"
   ]
  },
  {
   "cell_type": "markdown",
   "metadata": {},
   "source": [
    "### Validate Payment to deploy task\n",
    "\n",
    "This step will validate the payment and then make task eligible for assigning if validation successful"
   ]
  },
  {
   "cell_type": "code",
   "execution_count": 9,
   "metadata": {},
   "outputs": [
    {
     "name": "stdout",
     "output_type": "stream",
     "text": [
      "{'tx_hash': '0x2f89cbc50b5ed6664f2be0d1486c49a378a5ca1931af2f015045227aaa2b898a', 'task_uuid': '2a81ab7a-b0ff-4895-b401-2d81998a8fa5'}\n",
      "{\n",
      "  \"data\": {\n",
      "    \"task\": {\n",
      "      \"created_at\": \"1714078848\",\n",
      "      \"end_at\": \"1714082444\",\n",
      "      \"leading_job_id\": null,\n",
      "      \"refund_amount\": null,\n",
      "      \"status\": \"created\",\n",
      "      \"task_detail_cid\": \"https://plutotest.acl.swanipfs.com/ipfs/QmRy43gokWME7KNkYpbGLxi33Dwk1PuRVtQbWxHivnUZdd\",\n",
      "      \"tx_hash\": null,\n",
      "      \"updated_at\": \"1714078864\",\n",
      "      \"uuid\": \"2a81ab7a-b0ff-4895-b401-2d81998a8fa5\"\n",
      "    }\n",
      "  },\n",
      "  \"message\": \"Task payment validated successfully.\",\n",
      "  \"status\": \"success\"\n",
      "}\n"
     ]
    }
   ],
   "source": [
    "if result_validation := swan_api.validate_payment(\n",
    "    tx_hash=tx_hash,\n",
    "    task_uuid=task_uuid\n",
    "):\n",
    "    print(json.dumps(result_validation, indent=2))\n",
    "else:\n",
    "    print('validation failed')"
   ]
  },
  {
   "cell_type": "markdown",
   "metadata": {},
   "source": [
    "### follow up task status (optional)\n",
    "The following step is optional, shows information when waiting for task being deployed."
   ]
  },
  {
   "cell_type": "code",
   "execution_count": 13,
   "metadata": {},
   "outputs": [
    {
     "name": "stdout",
     "output_type": "stream",
     "text": [
      "{\n",
      "  \"data\": {\n",
      "    \"computing_providers\": [\n",
      "      {\n",
      "        \"allowed_nodes\": null,\n",
      "        \"autobid\": 1,\n",
      "        \"city\": \"Montreal\",\n",
      "        \"country\": null,\n",
      "        \"created_at\": \"1712735800\",\n",
      "        \"deleted_at\": null,\n",
      "        \"last_active_at\": \"1713938072\",\n",
      "        \"lat\": 45.5075,\n",
      "        \"lon\": -73.5887,\n",
      "        \"multi_address\": \"/ip4/38.140.46.60/tcp/8086\",\n",
      "        \"name\": \"cp-2.44-2\",\n",
      "        \"node_id\": \"0478a886cb6e191a0531fb6f8a7da4c0fbf0ec220af6d49e622f7e2da514f0ea205ed77918796c66ae642f0996dbf0ecc4bb7f1dd949705d1306abd1c14b60fb8a\",\n",
      "        \"online\": true,\n",
      "        \"public_address\": \"0xFbc1d38a2127D81BFe3EA347bec7310a1cfa2373\",\n",
      "        \"region\": \"Quebec-CA\",\n",
      "        \"score\": 100,\n",
      "        \"status\": \"Active\",\n",
      "        \"updated_at\": \"1714072044\"\n",
      "      }\n",
      "    ],\n",
      "    \"jobs\": [\n",
      "      {\n",
      "        \"bidder_id\": \"0478a886cb6e191a0531fb6f8a7da4c0fbf0ec220af6d49e622f7e2da514f0ea205ed77918796c66ae642f0996dbf0ecc4bb7f1dd949705d1306abd1c14b60fb8a\",\n",
      "        \"build_log\": \"wss://log.dev2.crosschain.computer:8086/api/v1/computing/lagrange/spaces/log?space_id=QmPwg1ZNn2HR6WA3zTv3iLQ4qjpv8UjZad7LcRHwEhnK6n&type=build\",\n",
      "        \"container_log\": \"wss://log.dev2.crosschain.computer:8086/api/v1/computing/lagrange/spaces/log?space_id=QmPwg1ZNn2HR6WA3zTv3iLQ4qjpv8UjZad7LcRHwEhnK6n&type=container\",\n",
      "        \"created_at\": \"1714078882\",\n",
      "        \"duration\": 3600,\n",
      "        \"ended_at\": null,\n",
      "        \"hardware\": \"C1ae.medium\",\n",
      "        \"job_real_uri\": \"https://zymfm700nf.dev2.crosschain.computer\",\n",
      "        \"job_result_uri\": \"https://42f6d9f62851.acl.swanipfs.com/ipfs/Qmb3nr9hASKuyXYanpnQuMAv3QWnVUexSF2koubgv4kaBM\",\n",
      "        \"job_source_uri\": \"https://plutotest.acl.swanipfs.com/ipfs/QmPwg1ZNn2HR6WA3zTv3iLQ4qjpv8UjZad7LcRHwEhnK6n\",\n",
      "        \"name\": \"Job-8e8780ed-c145-4009-90d0-e1707408204c\",\n",
      "        \"start_at\": \"1714078844\",\n",
      "        \"status\": \"Running\",\n",
      "        \"storage_source\": \"lagrange\",\n",
      "        \"task_uuid\": \"2a81ab7a-b0ff-4895-b401-2d81998a8fa5\",\n",
      "        \"updated_at\": \"1714078940\",\n",
      "        \"uuid\": \"8e8780ed-c145-4009-90d0-e1707408204c\"\n",
      "      }\n",
      "    ],\n",
      "    \"task\": {\n",
      "      \"created_at\": \"1714078848\",\n",
      "      \"end_at\": \"1714082444\",\n",
      "      \"leading_job_id\": \"8e8780ed-c145-4009-90d0-e1707408204c\",\n",
      "      \"refund_amount\": null,\n",
      "      \"status\": \"completed\",\n",
      "      \"task_detail_cid\": \"https://plutotest.acl.swanipfs.com/ipfs/QmRy43gokWME7KNkYpbGLxi33Dwk1PuRVtQbWxHivnUZdd\",\n",
      "      \"tx_hash\": null,\n",
      "      \"updated_at\": \"1714078896\",\n",
      "      \"uuid\": \"2a81ab7a-b0ff-4895-b401-2d81998a8fa5\"\n",
      "    }\n",
      "  },\n",
      "  \"message\": \"fetch task info for task_uuid='2a81ab7a-b0ff-4895-b401-2d81998a8fa5' successfully\",\n",
      "  \"status\": \"success\"\n",
      "}\n"
     ]
    }
   ],
   "source": [
    "# Check task info\n",
    "info = swan_api.get_deployment_info(task_uuid=task_uuid)\n",
    "print(json.dumps(info, indent=2))"
   ]
  },
  {
   "cell_type": "markdown",
   "metadata": {},
   "source": [
    "### Show result\n",
    "\n",
    "`job_real_uri` is for show the result of application you deployed."
   ]
  },
  {
   "cell_type": "code",
   "execution_count": 14,
   "metadata": {},
   "outputs": [
    {
     "name": "stdout",
     "output_type": "stream",
     "text": [
      "['https://zymfm700nf.dev2.crosschain.computer']\n"
     ]
    }
   ],
   "source": [
    "r = swan_api.get_real_url(task_uuid)\n",
    "print(r)"
   ]
  },
  {
   "cell_type": "code",
   "execution_count": null,
   "metadata": {},
   "outputs": [],
   "source": [
    "import requests\n",
    "import json\n",
    "\n",
    "headers = {\n",
    "    'Content-Type': 'application/json',\n",
    "}\n",
    "\n",
    "response = requests.get(r[0], headers=headers)\n",
    "\n",
    "try:\n",
    "    print(json.dumps(response.json(), indent=4))\n",
    "except Exception as e:\n",
    "    print(e)\n",
    "    print(response)\n"
   ]
  }
 ],
 "metadata": {
  "kernelspec": {
   "display_name": "swanchain",
   "language": "python",
   "name": "python3"
  },
  "language_info": {
   "codemirror_mode": {
    "name": "ipython",
    "version": 3
   },
   "file_extension": ".py",
   "mimetype": "text/x-python",
   "name": "python",
   "nbconvert_exporter": "python",
   "pygments_lexer": "ipython3",
   "version": "3.10.14"
  }
 },
 "nbformat": 4,
 "nbformat_minor": 2
}
