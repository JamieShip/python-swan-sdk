{
 "cells": [
  {
   "cell_type": "markdown",
   "metadata": {},
   "source": [
    "## Demo for SDK (latest)\n",
    "\n",
    "This example shows how to use SDK to deploy a task. The demo notebook includes the following steps:\n",
    "- [initialization](#initialization)\n",
    "- [show available hardware info list](#show-available-hardware-information)\n",
    "- [choose hardware config](#choose-hardware-config)\n",
    "- [get `job_source_uri`](#get-job_source_uri)\n",
    "- [estimate payment amount](#estimate-payment-amount)\n",
    "- [create task to get `task_uuid`](#create-task)\n",
    "- [submit payment](#submit-payment)\n",
    "- [validate payment](#validate-payment-to-deploy-task)\n",
    "- [follow up task status](#follow-up-task-status-optional)\n",
    "- [show result](#show-result)\n"
   ]
  },
  {
   "cell_type": "markdown",
   "metadata": {},
   "source": [
    "\n",
    "### Initialization\n",
    "\n",
    "#### get an `API_KEY`\n",
    "\n",
    "- For test version, get `API_KEY` in dashboard page: https://orchestrator-test.swanchain.io\n",
    "- For prod version, get `API_KEY` in dashboard page: https://orchestrator.swanchain.io"
   ]
  },
  {
   "cell_type": "code",
   "execution_count": 20,
   "metadata": {},
   "outputs": [],
   "source": [
    "import sys\n",
    "sys.path.insert(0, '..')\n",
    "\n",
    "import os\n",
    "import time\n",
    "import dotenv\n",
    "dotenv.load_dotenv()\n",
    "from swan import SwanAPI , MCSAPI\n",
    "\n",
    "dev_url = \"https://swanhub-cali.swanchain.io\"\n",
    "# dev_url = \"http://127.0.0.1:5008\"\n",
    "\n",
    "# Initialize the Swan Service\n",
    "# dev\n",
    "swan_api = SwanAPI(api_key=os.getenv(\"API_KEY\"), environment=dev_url)\n",
    "# prod\n",
    "# swan_api = SwanAPI(api_key=os.getenv(\"API_KEY\"))\n",
    "\n",
    "# api_key = os.getenv(\"MCS_API_KEY\")\n",
    "# mcs_api = MCSAPI(api_key)\n",
    "\n",
    "from swan.contract.swan_contract import SwanContract\n",
    "\n",
    "contract = SwanContract(os.getenv('PK'), swan_api.contract_info)"
   ]
  },
  {
   "cell_type": "code",
   "execution_count": 2,
   "metadata": {},
   "outputs": [
    {
     "name": "stdout",
     "output_type": "stream",
     "text": [
      "{'client_contract_address': '0x9c5397F804f6663326151c81bBD82bb1451059E8', 'payment_contract_address': '0xB48c5D1c025655BA79Ac4E10C0F19523dB97c816', 'rpc_url': 'https://rpc-atom-internal.swanchain.io', 'swan_token_contract_address': '0x91B25A65b295F0405552A4bbB77879ab5e38166c'}\n"
     ]
    }
   ],
   "source": [
    "r = swan_api.contract_info\n",
    "print(r)"
   ]
  },
  {
   "cell_type": "markdown",
   "metadata": {},
   "source": [
    "### Show available hardware information"
   ]
  },
  {
   "cell_type": "code",
   "execution_count": 3,
   "metadata": {},
   "outputs": [
    {
     "data": {
      "text/plain": [
       "[{'id': 0,\n",
       "  'name': 'C1ae.small',\n",
       "  'description': 'CPU only · 2 vCPU · 2 GiB',\n",
       "  'type': 'CPU',\n",
       "  'reigion': ['-', 'North Carolina-US'],\n",
       "  'price': '0.0',\n",
       "  'status': 'available'},\n",
       " {'id': 1,\n",
       "  'name': 'C1ae.medium',\n",
       "  'description': 'CPU only · 4 vCPU · 4 GiB',\n",
       "  'type': 'CPU',\n",
       "  'reigion': ['-', 'North Carolina-US'],\n",
       "  'price': '1.0',\n",
       "  'status': 'available'},\n",
       " {'id': 12,\n",
       "  'name': 'G1ae.small',\n",
       "  'description': 'Nvidia 3080 · 4 vCPU · 8 GiB',\n",
       "  'type': 'GPU',\n",
       "  'reigion': ['-', 'North Carolina-US'],\n",
       "  'price': '10.0',\n",
       "  'status': 'available'},\n",
       " {'id': 13,\n",
       "  'name': 'G1ae.medium',\n",
       "  'description': 'Nvidia 3080 · 8 vCPU · 16 GiB',\n",
       "  'type': 'GPU',\n",
       "  'reigion': ['-', 'North Carolina-US'],\n",
       "  'price': '11.0',\n",
       "  'status': 'available'},\n",
       " {'id': 20,\n",
       "  'name': 'Hpc1ae.small',\n",
       "  'description': 'Nvidia 3090 · 4 vCPU · 8 GiB',\n",
       "  'type': 'GPU',\n",
       "  'reigion': ['-'],\n",
       "  'price': '14.0',\n",
       "  'status': 'available'},\n",
       " {'id': 21,\n",
       "  'name': 'Hpc1ae.medium',\n",
       "  'description': 'Nvidia 3090 · 8 vCPU · 16 GiB',\n",
       "  'type': 'GPU',\n",
       "  'reigion': ['-'],\n",
       "  'price': '16.0',\n",
       "  'status': 'available'},\n",
       " {'id': 73,\n",
       "  'name': 'R1ae.medium',\n",
       "  'description': 'Nvidia 3080 · 8 vCPU · 32 GiB',\n",
       "  'type': 'GPU',\n",
       "  'reigion': ['-', 'North Carolina-US'],\n",
       "  'price': '22.0',\n",
       "  'status': 'available'},\n",
       " {'id': 74,\n",
       "  'name': 'R1ae.large',\n",
       "  'description': 'Nvidia 3090 · 8 vCPU · 32 GiB',\n",
       "  'type': 'GPU',\n",
       "  'reigion': ['-'],\n",
       "  'price': '30.0',\n",
       "  'status': 'available'}]"
      ]
     },
     "execution_count": 3,
     "metadata": {},
     "output_type": "execute_result"
    }
   ],
   "source": [
    "hardwares = swan_api.get_hardware_config()\n",
    "hardwares_info = [hardware.to_dict() for hardware in hardwares if hardware.status == \"available\"] \n",
    "hardwares_info"
   ]
  },
  {
   "cell_type": "markdown",
   "metadata": {},
   "source": [
    "### Choose hardware config\n",
    "\n",
    "choose the hardware with its config name or hardware id\n",
    "\n",
    "in hardware config, `cfg_name` and `hardware_id` will be used in the steps to deploy task (create task and submit payment)"
   ]
  },
  {
   "cell_type": "code",
   "execution_count": 4,
   "metadata": {},
   "outputs": [
    {
     "name": "stdout",
     "output_type": "stream",
     "text": [
      "hardware.name='C1ae.medium', hardware.id=1, ['-', 'North Carolina-US']\n",
      "The chosen hardware_id=1\n"
     ]
    }
   ],
   "source": [
    "cfg_name = 'C1ae.medium' #\"G1ae.medium\"\n",
    "hardware = [hardware for hardware in hardwares if hardware.name == cfg_name][0]\n",
    "print(f\"{hardware.name=}, {hardware.id=}, {hardware.region}\")\n",
    "\n",
    "hardware_id = hardware.id\n",
    "print(f\"The chosen {hardware_id=}\")"
   ]
  },
  {
   "cell_type": "code",
   "execution_count": 5,
   "metadata": {},
   "outputs": [
    {
     "data": {
      "text/plain": [
       "1"
      ]
     },
     "execution_count": 5,
     "metadata": {},
     "output_type": "execute_result"
    }
   ],
   "source": [
    "hardware_id"
   ]
  },
  {
   "cell_type": "markdown",
   "metadata": {},
   "source": [
    "### Get `job_source_uri`\n",
    "\n",
    "We can use the `get_source_uri` interface to get a `job_source_uri` for creating task."
   ]
  },
  {
   "cell_type": "code",
   "execution_count": 6,
   "metadata": {},
   "outputs": [
    {
     "name": "stdout",
     "output_type": "stream",
     "text": [
      "repo_uri='https://github.com/alphaflows/tetris-docker-image.git', hardware_id=1, wallet_address='0xaA5812Fb31fAA6C073285acD4cB185dDbeBDC224'repo_owner=None, repo_name=None, None\n"
     ]
    }
   ],
   "source": [
    "\n",
    "job_source_uri = swan_api.get_source_uri(\n",
    "    repo_uri='https://github.com/alphaflows/tetris-docker-image.git',\n",
    "    hardware_id=hardware_id,\n",
    "    wallet_address=os.getenv('WALLET')\n",
    ")"
   ]
  },
  {
   "cell_type": "code",
   "execution_count": 8,
   "metadata": {},
   "outputs": [],
   "source": [
    "if job_source_uri and job_source_uri.get('data'):\n",
    "    job_source_uri = job_source_uri['data']['job_source_uri']"
   ]
  },
  {
   "cell_type": "code",
   "execution_count": 10,
   "metadata": {},
   "outputs": [
    {
     "data": {
      "text/plain": [
       "'https://plutotest.acl.swanipfs.com/ipfs/Qmf5iZCmTNaT2vf279XuPywa8W3rLi5vXbtPBJDzniYxvh'"
      ]
     },
     "execution_count": 10,
     "metadata": {},
     "output_type": "execute_result"
    }
   ],
   "source": [
    "job_source_uri"
   ]
  },
  {
   "cell_type": "markdown",
   "metadata": {},
   "source": [
    "### Estimate Payment amount"
   ]
  },
  {
   "cell_type": "code",
   "execution_count": 11,
   "metadata": {},
   "outputs": [
    {
     "name": "stdout",
     "output_type": "stream",
     "text": [
      "1000000000000000000\n"
     ]
    }
   ],
   "source": [
    "duration_hour = 1 # hour\n",
    "amount = contract.estimate_payment(hardware_id, duration_hour)\n",
    "print(amount)"
   ]
  },
  {
   "cell_type": "markdown",
   "metadata": {},
   "source": [
    "### Create task\n",
    "\n",
    "This step uses above information to create task, and get `task_uuid`, which is useful in submit payment step."
   ]
  },
  {
   "cell_type": "code",
   "execution_count": 13,
   "metadata": {},
   "outputs": [
    {
     "name": "stdout",
     "output_type": "stream",
     "text": [
      "{\n",
      "  \"data\": {\n",
      "    \"task\": {\n",
      "      \"created_at\": \"1714170299\",\n",
      "      \"end_at\": \"1714173896\",\n",
      "      \"leading_job_id\": null,\n",
      "      \"refund_amount\": null,\n",
      "      \"status\": \"initialized\",\n",
      "      \"task_detail_cid\": \"https://plutotest.acl.swanipfs.com/ipfs/QmQJQbbdAN2aonAoURP6p6MRQhvUSqnaVZWfT1eXj9gTQP\",\n",
      "      \"tx_hash\": null,\n",
      "      \"updated_at\": \"1714170299\",\n",
      "      \"uuid\": \"eab40857-2601-45c6-a2d1-b22b29ea8692\"\n",
      "    }\n",
      "  },\n",
      "  \"message\": \"Task_uuid initialized.\",\n",
      "  \"status\": \"success\"\n",
      "}\n"
     ]
    }
   ],
   "source": [
    "import json\n",
    "\n",
    "duration=3600*duration_hour\n",
    "\n",
    "result = swan_api.create_task(\n",
    "    cfg_name=cfg_name, \n",
    "    region='North Carolina-US', \n",
    "    start_in=5, \n",
    "    duration=duration, \n",
    "    job_source_uri=job_source_uri,#repo.source_uri, \n",
    "    paid=contract._wei_to_swan(amount),\n",
    "    wallet_address=os.getenv('WALLET'),\n",
    ")\n",
    "print(json.dumps(result, indent=2))\n",
    "task_uuid = result['data']['task']['uuid']"
   ]
  },
  {
   "cell_type": "markdown",
   "metadata": {},
   "source": [
    "### Submit Payment\n",
    "\n",
    "This step is using `task_uuid`, `hardware_id` and `duration` to submit payment via **ClientPayment** contract."
   ]
  },
  {
   "cell_type": "code",
   "execution_count": 14,
   "metadata": {},
   "outputs": [
    {
     "name": "stdout",
     "output_type": "stream",
     "text": [
      "0xc562abf4bccc14f9338d189ecc6d90797bfef01e882fb3f4db6949e088e5e447\n"
     ]
    }
   ],
   "source": [
    "tx_hash = contract.submit_payment(task_uuid, hardware_id, duration)\n",
    "print(tx_hash)"
   ]
  },
  {
   "cell_type": "markdown",
   "metadata": {},
   "source": [
    "### Validate Payment to deploy task\n",
    "\n",
    "This step will validate the payment and then make task eligible for assigning if validation successful"
   ]
  },
  {
   "cell_type": "code",
   "execution_count": 15,
   "metadata": {},
   "outputs": [
    {
     "name": "stdout",
     "output_type": "stream",
     "text": [
      "{'tx_hash': '0xc562abf4bccc14f9338d189ecc6d90797bfef01e882fb3f4db6949e088e5e447', 'task_uuid': 'eab40857-2601-45c6-a2d1-b22b29ea8692'}\n",
      "{\n",
      "  \"data\": {\n",
      "    \"task\": {\n",
      "      \"created_at\": \"1714170299\",\n",
      "      \"end_at\": \"1714173896\",\n",
      "      \"leading_job_id\": null,\n",
      "      \"refund_amount\": null,\n",
      "      \"status\": \"created\",\n",
      "      \"task_detail_cid\": \"https://plutotest.acl.swanipfs.com/ipfs/QmQJQbbdAN2aonAoURP6p6MRQhvUSqnaVZWfT1eXj9gTQP\",\n",
      "      \"tx_hash\": null,\n",
      "      \"updated_at\": \"1714170321\",\n",
      "      \"uuid\": \"eab40857-2601-45c6-a2d1-b22b29ea8692\"\n",
      "    }\n",
      "  },\n",
      "  \"message\": \"Task payment validated successfully.\",\n",
      "  \"status\": \"success\"\n",
      "}\n"
     ]
    }
   ],
   "source": [
    "if result_validation := swan_api.validate_payment(\n",
    "    tx_hash=tx_hash,\n",
    "    task_uuid=task_uuid\n",
    "):\n",
    "    print(json.dumps(result_validation, indent=2))\n",
    "else:\n",
    "    print('validation failed')"
   ]
  },
  {
   "cell_type": "markdown",
   "metadata": {},
   "source": [
    "### follow up task status (optional)\n",
    "The following step is optional, shows information when waiting for task being deployed."
   ]
  },
  {
   "cell_type": "code",
   "execution_count": 17,
   "metadata": {},
   "outputs": [
    {
     "name": "stdout",
     "output_type": "stream",
     "text": [
      "{\n",
      "  \"data\": {\n",
      "    \"computing_providers\": [\n",
      "      {\n",
      "        \"allowed_nodes\": null,\n",
      "        \"autobid\": 1,\n",
      "        \"city\": \"Raleigh\",\n",
      "        \"country\": null,\n",
      "        \"created_at\": \"1709866791\",\n",
      "        \"deleted_at\": null,\n",
      "        \"last_active_at\": null,\n",
      "        \"lat\": 35.8639,\n",
      "        \"lon\": -78.535,\n",
      "        \"multi_address\": \"/ip4/provider.cp.filezoo.com.cn/tcp/9086\",\n",
      "        \"name\": \"ubi-test-01\",\n",
      "        \"node_id\": \"04f76ddea946cd44634fc68d09b12d8a763d7616069d68ddd3587ae5e0deafcca5777d09fad7bd7c84a143d153800df17534916dc1708ee5dd8d48f6e938ab4eb6\",\n",
      "        \"online\": true,\n",
      "        \"public_address\": \"0x1AE8665873565C9089753920A0866C49Bd35DCC9\",\n",
      "        \"region\": \"North Carolina-US\",\n",
      "        \"score\": 100,\n",
      "        \"status\": \"Active\",\n",
      "        \"updated_at\": \"1714170114\"\n",
      "      }\n",
      "    ],\n",
      "    \"jobs\": [\n",
      "      {\n",
      "        \"bidder_id\": \"04f76ddea946cd44634fc68d09b12d8a763d7616069d68ddd3587ae5e0deafcca5777d09fad7bd7c84a143d153800df17534916dc1708ee5dd8d48f6e938ab4eb6\",\n",
      "        \"build_log\": \"wss://log.cp.filezoo.com.cn:9086/api/v1/computing/lagrange/spaces/log?space_id=Qmf5iZCmTNaT2vf279XuPywa8W3rLi5vXbtPBJDzniYxvh&type=build\",\n",
      "        \"container_log\": \"wss://log.cp.filezoo.com.cn:9086/api/v1/computing/lagrange/spaces/log?space_id=Qmf5iZCmTNaT2vf279XuPywa8W3rLi5vXbtPBJDzniYxvh&type=container\",\n",
      "        \"created_at\": \"1714170322\",\n",
      "        \"duration\": 3600,\n",
      "        \"ended_at\": null,\n",
      "        \"hardware\": \"C1ae.medium\",\n",
      "        \"job_real_uri\": \"https://a2kwf1mzff.cp.filezoo.com.cn\",\n",
      "        \"job_result_uri\": \"https://42f6d9f62851.acl.swanipfs.com/ipfs/QmTXVWL3D8PuC9P2pGh4vpBroAJSctw5pny2DK9bg8TrQp\",\n",
      "        \"job_source_uri\": \"https://plutotest.acl.swanipfs.com/ipfs/Qmf5iZCmTNaT2vf279XuPywa8W3rLi5vXbtPBJDzniYxvh\",\n",
      "        \"name\": \"Job-519b7dec-2a02-4c58-b4b2-7e5425e43e7e\",\n",
      "        \"start_at\": \"1714170296\",\n",
      "        \"status\": \"Running\",\n",
      "        \"storage_source\": \"lagrange\",\n",
      "        \"task_uuid\": \"eab40857-2601-45c6-a2d1-b22b29ea8692\",\n",
      "        \"updated_at\": \"1714170477\",\n",
      "        \"uuid\": \"519b7dec-2a02-4c58-b4b2-7e5425e43e7e\"\n",
      "      }\n",
      "    ],\n",
      "    \"task\": {\n",
      "      \"created_at\": \"1714170299\",\n",
      "      \"end_at\": \"1714173896\",\n",
      "      \"leading_job_id\": \"519b7dec-2a02-4c58-b4b2-7e5425e43e7e\",\n",
      "      \"refund_amount\": null,\n",
      "      \"status\": \"completed\",\n",
      "      \"task_detail_cid\": \"https://plutotest.acl.swanipfs.com/ipfs/QmQJQbbdAN2aonAoURP6p6MRQhvUSqnaVZWfT1eXj9gTQP\",\n",
      "      \"tx_hash\": null,\n",
      "      \"updated_at\": \"1714170338\",\n",
      "      \"uuid\": \"eab40857-2601-45c6-a2d1-b22b29ea8692\"\n",
      "    }\n",
      "  },\n",
      "  \"message\": \"fetch task info for task_uuid='eab40857-2601-45c6-a2d1-b22b29ea8692' successfully\",\n",
      "  \"status\": \"success\"\n",
      "}\n"
     ]
    }
   ],
   "source": [
    "# Check task info\n",
    "info = swan_api.get_deployment_info(task_uuid=task_uuid)\n",
    "print(json.dumps(info, indent=2))"
   ]
  },
  {
   "cell_type": "markdown",
   "metadata": {},
   "source": [
    "### Show result\n",
    "\n",
    "`job_real_uri` is for show the result of application you deployed.  \n",
    "You can put it into the web browser to view application."
   ]
  },
  {
   "cell_type": "code",
   "execution_count": 19,
   "metadata": {},
   "outputs": [
    {
     "name": "stdout",
     "output_type": "stream",
     "text": [
      "['https://a2kwf1mzff.cp.filezoo.com.cn']\n"
     ]
    }
   ],
   "source": [
    "r = swan_api.get_real_url(task_uuid)\n",
    "print(r)"
   ]
  },
  {
   "cell_type": "code",
   "execution_count": null,
   "metadata": {},
   "outputs": [],
   "source": [
    "import requests\n",
    "import json\n",
    "\n",
    "headers = {\n",
    "    'Content-Type': 'application/json',\n",
    "}\n",
    "\n",
    "response = requests.get(r[0], headers=headers)\n",
    "\n",
    "try:\n",
    "    print(json.dumps(response.json(), indent=4))\n",
    "except Exception as e:\n",
    "    print(e)\n",
    "    print(response)\n"
   ]
  }
 ],
 "metadata": {
  "kernelspec": {
   "display_name": "swanchain",
   "language": "python",
   "name": "python3"
  },
  "language_info": {
   "codemirror_mode": {
    "name": "ipython",
    "version": 3
   },
   "file_extension": ".py",
   "mimetype": "text/x-python",
   "name": "python",
   "nbconvert_exporter": "python",
   "pygments_lexer": "ipython3",
   "version": "3.10.14"
  }
 },
 "nbformat": 4,
 "nbformat_minor": 2
}
