{
 "cells": [
  {
   "cell_type": "markdown",
   "metadata": {},
   "source": [
    "## Example for SDK\n",
    "\n",
    "This example shows how to use SDK to deploy a task (V2)\n",
    "\n",
    "### Initialization\n",
    "\n",
    "For test version, get a user `API_KEY` in dashboard page: https://orchestrator-test.swanchain.io/provider-status"
   ]
  },
  {
   "cell_type": "code",
   "execution_count": 1,
   "metadata": {},
   "outputs": [],
   "source": [
    "import os\n",
    "import time\n",
    "import dotenv\n",
    "dotenv.load_dotenv(\"../.env\")\n",
    "from swan import SwanAPI , MCSAPI\n",
    "\n",
    "# Initialize the Swan Service\n",
    "swan_api = SwanAPI(api_key=os.getenv(\"API_KEY\"), environment=\"https://swanhub-cali.swanchain.io\")\n",
    "\n",
    "api_key = os.getenv(\"MCS_API_KEY\")\n",
    "mcs_api = MCSAPI(api_key)"
   ]
  },
  {
   "cell_type": "markdown",
   "metadata": {},
   "source": [
    "### Available hardware information"
   ]
  },
  {
   "cell_type": "code",
   "execution_count": 2,
   "metadata": {},
   "outputs": [],
   "source": [
    "hardwares = swan_api.get_hardware_config()\n",
    "hardwares_info = [hardware.to_dict() for hardware in hardwares if hardware.status == \"available\"] \n",
    "# hardwares_info"
   ]
  },
  {
   "cell_type": "markdown",
   "metadata": {},
   "source": [
    "choose hardware config"
   ]
  },
  {
   "cell_type": "code",
   "execution_count": 3,
   "metadata": {},
   "outputs": [
    {
     "name": "stdout",
     "output_type": "stream",
     "text": [
      "1\n",
      "('C1ae.medium', 1, ['North Carolina-US', 'Quebec-CA'])\n"
     ]
    }
   ],
   "source": [
    "device = 'C1ae.medium' #\"G1ae.medium\"\n",
    "obj = [hardware for hardware in hardwares if hardware.name == device][0]\n",
    "print(obj.id)\n",
    "print([(hardware.name, hardware.id, hardware.region) for hardware in hardwares if hardware.name == device][0])"
   ]
  },
  {
   "cell_type": "markdown",
   "metadata": {},
   "source": [
    "to simplify the process, here we use a existing `job_source_uri` which is a hello world application, used to create task."
   ]
  },
  {
   "cell_type": "code",
   "execution_count": 4,
   "metadata": {},
   "outputs": [],
   "source": [
    "job_source_uri = 'https://test-api.lagrangedao.org/spaces/5117e998-c623-4837-8af9-2b7b0ce2de7f'"
   ]
  },
  {
   "cell_type": "markdown",
   "metadata": {},
   "source": [
    "### Define task deploy v2"
   ]
  },
  {
   "cell_type": "code",
   "execution_count": 5,
   "metadata": {},
   "outputs": [],
   "source": [
    "# Deploy task\n",
    "\n",
    "# before v2 integrated into SDK, use customed function instead\n",
    "import logging\n",
    "import traceback\n",
    "import json\n",
    "from swan.common.constant import *\n",
    "from swan.common.exception import SwanAPIException\n",
    "\n",
    "def deploy_task_v2(\n",
    "        cfg_name: str, \n",
    "        region: str, \n",
    "        start_in: int, \n",
    "        duration: int, \n",
    "        job_source_uri: str, \n",
    "        wallet_address: str, \n",
    "        paid: float = 0.0\n",
    "    ):\n",
    "    \"\"\"Sent deploy task request via orchestrator.\n",
    "\n",
    "    Args:\n",
    "        cfg_name: name of cp/hardware configuration set.\n",
    "        region: region of hardware.\n",
    "        start_in: unix timestamp of starting time.\n",
    "        duration: duration of service runtime in unix time.\n",
    "        job_source_uri: source uri for space.\n",
    "        wallet_address: user wallet address.\n",
    "        paid: paid amount in Eth.\n",
    "\n",
    "    Returns:\n",
    "        JSON response from backend server including 'task_uuid'.\n",
    "    \"\"\"\n",
    "    try:\n",
    "        if swan_api._verify_hardware_region(cfg_name, region):\n",
    "            params = {\n",
    "                \"paid\": paid,\n",
    "                \"duration\": duration,\n",
    "                \"cfg_name\": cfg_name,\n",
    "                \"region\": region,\n",
    "                \"start_in\": start_in,\n",
    "                \"wallet\": wallet_address,\n",
    "                \"job_source_uri\": job_source_uri\n",
    "            }\n",
    "            result = swan_api._request_with_params(\n",
    "                POST, \n",
    "                '/v2/task_deployment', \n",
    "                swan_api.swan_url, \n",
    "                params, \n",
    "                swan_api.token, \n",
    "                None\n",
    "            )\n",
    "            return result\n",
    "        else:\n",
    "            raise SwanAPIException(f\"No {cfg_name} machine in {region}.\")\n",
    "    except Exception as e:\n",
    "        logging.error(str(e) + traceback.format_exc())\n",
    "        return None\n"
   ]
  },
  {
   "cell_type": "markdown",
   "metadata": {},
   "source": [
    "### Define contract util class v2"
   ]
  },
  {
   "cell_type": "code",
   "execution_count": 6,
   "metadata": {},
   "outputs": [],
   "source": [
    "# ./swan/contract/swan_contract_ex.py\n",
    "\n",
    "\n",
    "from swan.common.constant import *\n",
    "from swan.common.utils import get_contract_abi\n",
    "\n",
    "from swan.contract.swan_contract import SwanContract\n",
    "\n",
    "\n",
    "CLIENT_CONTRACT_ADDRESS=\"0xe356a758fA1748dfBE71E989c876959665a66ddA\"\n",
    "_CLIENT_CONTRACT_ABI = \"../swan/contract/abi/ClientPayment.json\"\n",
    "\n",
    "class SwanContractEx(SwanContract):\n",
    "\n",
    "    def __init__(self, private_key: str, rpc_url: str):\n",
    "        \"\"\" Initialize swan contract API connection.\n",
    "\n",
    "        Args:\n",
    "            private_key: private key for wallet.\n",
    "            rpc_url: rpc url of swan chain for connection.\n",
    "        \"\"\"\n",
    "\n",
    "        # with open(_CLIENT_CONTRACT_ABI, 'r') as abi_file:\n",
    "        #     abi_data = json.load(abi_file)\n",
    "        #     client_abi = json.dumps(abi_data)\n",
    "        \n",
    "        \n",
    "        super().__init__(private_key=private_key, rpc_url=rpc_url)\n",
    "        self.client_contract = self.w3.eth.contract(\n",
    "            address=CLIENT_CONTRACT_ADDRESS, \n",
    "            abi=json.load(open(_CLIENT_CONTRACT_ABI))\n",
    "        )\n",
    "\n",
    "    def submit_payment(self, task_id: str, hardware_id: int, duration: int):\n",
    "        nonce = self.w3.eth.get_transaction_count(self.account.address)\n",
    "        base_fee = self.w3.eth.get_block('latest')['baseFeePerGas']\n",
    "        max_priority_fee_per_gas = self.w3.to_wei(2, 'gwei')\n",
    "        max_fee_per_gas = base_fee + max_priority_fee_per_gas\n",
    "        if max_fee_per_gas < max_priority_fee_per_gas:\n",
    "            max_fee_per_gas = max_priority_fee_per_gas + base_fee\n",
    "        tx = self.client_contract.functions.submitPayment(task_id, hardware_id, duration).build_transaction({\n",
    "            'from': self.account.address,\n",
    "            'nonce': nonce,\n",
    "            \"maxFeePerGas\": max_fee_per_gas,\n",
    "            \"maxPriorityFeePerGas\": max_priority_fee_per_gas,\n",
    "        })\n",
    "        signed_tx = self.w3.eth.account.sign_transaction(tx, self.account._private_key)\n",
    "        tx_hash = self.w3.eth.send_raw_transaction(signed_tx.rawTransaction)\n",
    "        self.w3.eth.wait_for_transaction_receipt(tx_hash, timeout=CONTRACT_TIMEOUT)\n",
    "        return self.w3.to_hex(tx_hash)\n",
    "    \n",
    "    def _approve_swan_token(self, amount):\n",
    "        nonce = self.w3.eth.get_transaction_count(self.account.address)\n",
    "        base_fee = self.w3.eth.get_block('latest')['baseFeePerGas']\n",
    "        max_priority_fee_per_gas = self.w3.to_wei(2, 'gwei')\n",
    "        max_fee_per_gas = base_fee + max_priority_fee_per_gas\n",
    "        if max_fee_per_gas < max_priority_fee_per_gas:\n",
    "            max_fee_per_gas = max_priority_fee_per_gas + base_fee\n",
    "        tx = self.token_contract.functions.approve(self.client_contract.address, amount).build_transaction({\n",
    "            'from': self.account.address,\n",
    "            'nonce': nonce,\n",
    "            \"maxFeePerGas\": max_fee_per_gas,\n",
    "            \"maxPriorityFeePerGas\": max_priority_fee_per_gas,\n",
    "        })\n",
    "        signed_tx = self.w3.eth.account.sign_transaction(tx, self.account._private_key)\n",
    "        tx_hash = self.w3.eth.send_raw_transaction(signed_tx.rawTransaction)\n",
    "        self.w3.eth.wait_for_transaction_receipt(tx_hash, timeout=CONTRACT_TIMEOUT)\n",
    "        return self.w3.to_hex(tx_hash)\n",
    "    "
   ]
  },
  {
   "cell_type": "markdown",
   "metadata": {},
   "source": [
    "### Contract and Payment Estimation\n",
    "\n",
    "- Firstly, use contract function to estimate the amount to pay. \n",
    "- Secondly, by `task_uuid` gotten from v2 API `/v2/task_deployment`, **pay** with `task_uuid` and `hardware_id`\n",
    "- Thirdly, do payment validation via v2 API `/v2/task_payment_validate`, which will enable task eligible for assigning"
   ]
  },
  {
   "cell_type": "code",
   "execution_count": 7,
   "metadata": {},
   "outputs": [
    {
     "name": "stdout",
     "output_type": "stream",
     "text": [
      "1000000000000000000\n"
     ]
    }
   ],
   "source": [
    "pk = os.getenv('PK')\n",
    "rpc = os.getenv('RPC')\n",
    "\n",
    "c2 = SwanContractEx(pk, rpc)\n",
    "duration_hour = 1 # hour\n",
    "amount = c2.estimate_payment(obj.id, duration_hour)\n",
    "print(amount)"
   ]
  },
  {
   "cell_type": "markdown",
   "metadata": {},
   "source": [
    "### Deploy task\n",
    "\n",
    "This step shows how to use SDK's interface for deploying task, which calls Orchestrator's task deployment API (V2), to get `task_uuid`, which will be used in payment."
   ]
  },
  {
   "cell_type": "code",
   "execution_count": 8,
   "metadata": {},
   "outputs": [
    {
     "name": "stdout",
     "output_type": "stream",
     "text": [
      "{'data': {'task': {'created_at': '1713377715', 'end_at': '1713381312', 'leading_job_id': None, 'refund_amount': None, 'status': 'initialized', 'task_detail_cid': 'https://plutotest.acl.swanipfs.com/ipfs/QmUvHQNGETErt6MP7PMx6525ZgKKoe19zyt6oBkVR9kvzU', 'tx_hash': None, 'updated_at': '1713377715', 'uuid': '0242bdf6-45bb-4743-b081-f86d4f702bc0'}}, 'message': 'Task_uuid initialized.', 'status': 'success'}\n",
      "Task UUID: 0242bdf6-45bb-4743-b081-f86d4f702bc0\n"
     ]
    }
   ],
   "source": [
    "duration=3600*duration_hour\n",
    "\n",
    "result = deploy_task_v2(\n",
    "            cfg_name=device, \n",
    "            region='Quebec-CA', \n",
    "            start_in=5, \n",
    "            duration=duration, \n",
    "            job_source_uri=job_source_uri, \n",
    "            paid=c2._wei_to_swan(amount),\n",
    "            wallet_address=os.getenv('WALLET'),\n",
    "          )\n",
    "print(result)\n",
    "task_uuid = result['data']['task']['uuid']\n",
    "print(\"Task UUID:\", task_uuid)"
   ]
  },
  {
   "cell_type": "markdown",
   "metadata": {},
   "source": [
    "### Submit Payment\n",
    "\n",
    "This step is using `task_uuid`, `hardware_id` and `duration` to submit payment via **ClientPayment** contract."
   ]
  },
  {
   "cell_type": "code",
   "execution_count": 9,
   "metadata": {},
   "outputs": [
    {
     "name": "stdout",
     "output_type": "stream",
     "text": [
      "0x30b0bce0f724fc7fc56e89c2e79c520cc68b5376246212d64b8427b25de6138e\n",
      "0x4fcabb68f20381cc8f10fe5873e7c544ec0500fb4b84542230e21db803fd1336\n"
     ]
    }
   ],
   "source": [
    "r = c2._approve_swan_token(amount)\n",
    "print(r)\n",
    " \n",
    "tx_hash = c2.submit_payment(task_uuid, obj.id, duration)\n",
    "print(tx_hash)"
   ]
  },
  {
   "cell_type": "markdown",
   "metadata": {},
   "source": [
    "### Validate Payment via API\n",
    "\n",
    "This step will validate the payment and then make task eligible for assigning if validation successful"
   ]
  },
  {
   "cell_type": "code",
   "execution_count": 31,
   "metadata": {},
   "outputs": [
    {
     "name": "stdout",
     "output_type": "stream",
     "text": [
      "0x70d958a1bb0d43b88215674789dbdf142b9d3bb512c1a5345dd8e09dcb6c09ce\n",
      "b35d5ce8-2dcb-4e67-88de-f48d89487418\n",
      "{'tx_hash': '0x70d958a1bb0d43b88215674789dbdf142b9d3bb512c1a5345dd8e09dcb6c09ce', 'task_uuid': 'b35d5ce8-2dcb-4e67-88de-f48d89487418'}\n",
      "{'data': {'error_code': 1131}, 'message': 'payment validation failed: payment receipt contract address is not correct', 'status': 'failed'}\n"
     ]
    }
   ],
   "source": [
    "\n",
    "def validate_payment(\n",
    "        tx_hash,\n",
    "        task_uuid\n",
    "    ):\n",
    "        \n",
    "    print(tx_hash)\n",
    "    print(task_uuid)\n",
    "\n",
    "    try:\n",
    "        if tx_hash and task_uuid:\n",
    "            params = {\n",
    "                \"tx_hash\": tx_hash,\n",
    "                \"task_uuid\": task_uuid\n",
    "            }\n",
    "            print(params)\n",
    "            result = swan_api._request_with_params(\n",
    "                POST, \n",
    "                '/v2/task_payment_validate', \n",
    "                swan_api.swan_url, \n",
    "                params, \n",
    "                os.getenv(\"API_KEY\"), #swan_api.token, \n",
    "                None\n",
    "            )\n",
    "            return result\n",
    "        else:\n",
    "            raise SwanAPIException(f\"{tx_hash=} or {task_uuid=} invalid\")\n",
    "    except Exception as e:\n",
    "        logging.error(str(e) + traceback.format_exc())\n",
    "        return None\n",
    "\n",
    "result_validation = validate_payment(\n",
    "    tx_hash=tx_hash,\n",
    "    task_uuid=task_uuid\n",
    ")\n",
    "print(result_validation)"
   ]
  },
  {
   "cell_type": "markdown",
   "metadata": {},
   "source": [
    "The following step is optional, shows information when waiting for task being deployed."
   ]
  },
  {
   "cell_type": "code",
   "execution_count": 9,
   "metadata": {},
   "outputs": [
    {
     "name": "stdout",
     "output_type": "stream",
     "text": [
      "buildImage\n",
      "Job Result URL:  https://42f6d9f62851.acl.swanipfs.com/ipfs/QmQEW9Dyi9aEQYtVdMxA7qkr7gdiiNE9MJxNtjt9uSyUKc\n",
      "Job Real URL:  https://cf24tc2oot.dev2.crosschain.computer\n",
      "deployToK8s\n",
      "Job Result URL:  https://42f6d9f62851.acl.swanipfs.com/ipfs/QmQEW9Dyi9aEQYtVdMxA7qkr7gdiiNE9MJxNtjt9uSyUKc\n",
      "Job Real URL:  https://cf24tc2oot.dev2.crosschain.computer\n"
     ]
    }
   ],
   "source": [
    "# Check task info\n",
    "while True:\n",
    "    info = swan_api.get_deployment_info(task_uuid=task_uuid)\n",
    "    if len(info['data']['jobs']) > 0:\n",
    "        \n",
    "        status = info['data']['jobs'][0]['status']\n",
    "        print(status)\n",
    "        \n",
    "        job_res_uri = info['data']['jobs'][0]['job_result_uri']\n",
    "        job_real_uri = info['data']['jobs'][0]['job_real_uri']\n",
    "        print(\"Job Result URL: \", job_res_uri)\n",
    "        print(\"Job Real URL: \", job_real_uri)\n",
    "        \n",
    "        # break\n",
    "        if status == 'deployToK8s' or status == \"Cancelled\" or status == \"Failed\":\n",
    "            break\n",
    "        \n",
    "    time.sleep(30)"
   ]
  },
  {
   "cell_type": "markdown",
   "metadata": {},
   "source": [
    "### Show result\n",
    "\n",
    "`job_real_uri` is for show the result of application you deployed."
   ]
  },
  {
   "cell_type": "code",
   "execution_count": 10,
   "metadata": {},
   "outputs": [
    {
     "name": "stderr",
     "output_type": "stream",
     "text": [
      "ERROR:root:'NoneType' object is not subscriptableTraceback (most recent call last):\n",
      "  File \"/Users/aaronli/miniconda3/envs/test-sdk2/lib/python3.10/site-packages/swan/api/swan_api.py\", line 184, in get_real_url\n",
      "    jobs = deployment_info['data']['jobs']\n",
      "TypeError: 'NoneType' object is not subscriptable\n",
      "\n"
     ]
    },
    {
     "name": "stdout",
     "output_type": "stream",
     "text": [
      "None\n"
     ]
    }
   ],
   "source": [
    "r = swan_api.get_real_url(task_uuid)\n",
    "print(r)"
   ]
  },
  {
   "cell_type": "code",
   "execution_count": 12,
   "metadata": {},
   "outputs": [
    {
     "name": "stdout",
     "output_type": "stream",
     "text": [
      "{\n",
      "    \"Hello\": \"World! Today - 06.21\"\n",
      "}\n"
     ]
    }
   ],
   "source": [
    "import requests\n",
    "import json\n",
    "\n",
    "headers = {\n",
    "    'Content-Type': 'application/json',\n",
    "}\n",
    "\n",
    "response = requests.get(r[0], headers=headers)\n",
    "\n",
    "try:\n",
    "    print(json.dumps(response.json(), indent=4))\n",
    "except Exception as e:\n",
    "    print(e)\n",
    "    print(response)\n"
   ]
  }
 ],
 "metadata": {
  "kernelspec": {
   "display_name": "swanchain",
   "language": "python",
   "name": "python3"
  },
  "language_info": {
   "codemirror_mode": {
    "name": "ipython",
    "version": 3
   },
   "file_extension": ".py",
   "mimetype": "text/x-python",
   "name": "python",
   "nbconvert_exporter": "python",
   "pygments_lexer": "ipython3",
   "version": "3.10.14"
  }
 },
 "nbformat": 4,
 "nbformat_minor": 2
}
