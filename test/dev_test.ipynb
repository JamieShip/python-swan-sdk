{
 "cells": [
  {
   "cell_type": "code",
   "execution_count": null,
   "metadata": {},
   "outputs": [],
   "source": [
    "import sys\n",
    "sys.path.insert(0, '..')\n",
    "\n",
    "# Test load api key\n",
    "import os\n",
    "from dotenv import load_dotenv\n",
    "\n",
    "load_dotenv()\n",
    "\n",
    "api_key = os.getenv('API_KEY')\n",
    "print(api_key)\n",
    "\n",
    "# Test login \n",
    "from swan import SwanAPI\n",
    "\n",
    "client = SwanAPI(api_key)\n",
    "print(client.token)"
   ]
  },
  {
   "cell_type": "code",
   "execution_count": null,
   "metadata": {},
   "outputs": [],
   "source": [
    "# Test get CP config\n",
    "\n",
    "price_list = client.get_hardware_config()\n",
    "print(price_list[0].to_dict())\n",
    "\n",
    "# Test deploy space\n",
    "name = os.getenv('NAME')\n",
    "region = os.getenv('REGION')\n",
    "start = os.getenv('START')\n",
    "duration = os.getenv('DURATION')\n",
    "source = os.getenv('SOURCE')\n",
    "result = client.deploy_space(name, region, start, duration, source)\n",
    "print(result)\n",
    "task_uuid = result['data']['task']['task_uuid']\n",
    "\n",
    "result = client.get_deployment_info(task_uuid)\n",
    "print(result)"
   ]
  }
 ],
 "metadata": {
  "kernelspec": {
   "display_name": "venv",
   "language": "python",
   "name": "python3"
  },
  "language_info": {
   "codemirror_mode": {
    "name": "ipython",
    "version": 3
   },
   "file_extension": ".py",
   "mimetype": "text/x-python",
   "name": "python",
   "nbconvert_exporter": "python",
   "pygments_lexer": "ipython3",
   "version": "3.8.9"
  }
 },
 "nbformat": 4,
 "nbformat_minor": 2
}
