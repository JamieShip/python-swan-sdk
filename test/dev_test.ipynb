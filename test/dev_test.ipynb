{
 "cells": [
  {
   "cell_type": "code",
   "execution_count": null,
   "metadata": {},
   "outputs": [],
   "source": [
    "import sys\n",
    "sys.path.insert(0, '..')\n",
    "\n",
    "import os\n",
    "from dotenv import load_dotenv\n",
    "load_dotenv()\n",
    "\n",
    "api_key = os.getenv('API_KEY')\n",
    "print(api_key)\n",
    "\n",
    "# Test login \n",
    "from swan import SwanAPI\n",
    "\n",
    "client = SwanAPI(api_key)\n",
    "print(client.token)"
   ]
  },
  {
   "cell_type": "code",
   "execution_count": 1,
   "metadata": {},
   "outputs": [
    {
     "name": "stdout",
     "output_type": "stream",
     "text": [
      "10.0\n",
      "['C1ae.medium', 1000000000000000000, True]\n",
      "100000.0\n",
      "24217985\n"
     ]
    }
   ],
   "source": [
    "import sys\n",
    "sys.path.insert(0, '..')\n",
    "\n",
    "import os\n",
    "from dotenv import load_dotenv\n",
    "load_dotenv()\n",
    "\n",
    "from swan import SwanContract\n",
    "\n",
    "pk = os.getenv('KEY')\n",
    "rpc = os.getenv('RPC')\n",
    "\n",
    "c = SwanContract(pk, rpc)\n",
    "\n",
    "# Test esimate lock revenue\n",
    "r = c.estimate_payment(1, 10)\n",
    "print(r*1e-18)\n",
    "\n",
    "# Test get hardware info\n",
    "r = c.hardware_info(1)\n",
    "print(r)\n",
    "\n",
    "# Test get swan token balance\n",
    "r = c._get_swan_balance()\n",
    "print(r * 1e-18)\n",
    "\n",
    "# Test get gas\n",
    "r = c._get_swan_gas()\n",
    "print(r* 1e-18)"
   ]
  }
 ],
 "metadata": {
  "kernelspec": {
   "display_name": "venv",
   "language": "python",
   "name": "python3"
  },
  "language_info": {
   "codemirror_mode": {
    "name": "ipython",
    "version": 3
   },
   "file_extension": ".py",
   "mimetype": "text/x-python",
   "name": "python",
   "nbconvert_exporter": "python",
   "pygments_lexer": "ipython3",
   "version": "3.8.9"
  }
 },
 "nbformat": 4,
 "nbformat_minor": 2
}
